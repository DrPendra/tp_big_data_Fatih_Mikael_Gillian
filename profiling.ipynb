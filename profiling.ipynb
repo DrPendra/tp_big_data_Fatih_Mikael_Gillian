{
 "cells": [
  {
   "cell_type": "code",
   "execution_count": 1,
   "outputs": [],
   "source": [
    "import pandas as pd\n",
    "import matplotlib.pyplot as plt\n",
    "\n",
    "\n",
    "df = pd.read_csv('dataw_fro03.csv')\n"
   ],
   "metadata": {
    "collapsed": false,
    "pycharm": {
     "name": "#%%\n"
    }
   }
  },
  {
   "cell_type": "code",
   "execution_count": 2,
   "outputs": [],
   "source": [
    "# from pandas_profiling import ProfileReport\n",
    "# profile = ProfileReport(df, title='Rapport d\\'analyse', explorative=True)\n",
    "# profile.to_file(\"rapport_analyse.html\")"
   ],
   "metadata": {
    "collapsed": false,
    "pycharm": {
     "name": "#%%\n"
    }
   }
  },
  {
   "cell_type": "markdown",
   "source": [
    "# str.startwith | les dates ne commencant pas par 2"
   ],
   "metadata": {
    "collapsed": false,
    "pycharm": {
     "name": "#%% md\n"
    }
   }
  },
  {
   "cell_type": "code",
   "execution_count": 3,
   "outputs": [
    {
     "data": {
      "text/plain": "        codcli  genrecli    nomcli   prenomcli  cpcli  \\\n37524    29360  M. & Mme     BIARD      Pierre  72320   \n37525    29360  M. & Mme     BIARD      Pierre  72320   \n57936     1247       Mme     HAREL  Marie-Anne  44370   \n57937     1247       Mme     HAREL  Marie-Anne  44370   \n93461     3490       Mme   GAUTIER  Marguerite  72160   \n93462     3490       Mme   GAUTIER  Marguerite  72160   \n93463     3490       Mme   GAUTIER  Marguerite  72160   \n93464     3490       Mme   GAUTIER  Marguerite  72160   \n93762     3490       Mme   GAUTIER  Marguerite  72160   \n117009   39073       Mme  CHESNAIS    Brigitte  72610   \n130390   40679       Mme      LUCE     Arlette  61140   \n130583   40679       Mme      LUCE     Arlette  61140   \n\n                            villecli  codcde               datcde  timbrecli  \\\n37524                        VIBRAYE   44592                  NaN        0.0   \n37525                        VIBRAYE   44592                  NaN        0.0   \n57936                   LOIREAUXENCE   53937  1899-12-30 00:00:00        0.0   \n57937                   LOIREAUXENCE   53937  1899-12-30 00:00:00        0.0   \n93461       TUFFE VAL DE LA CHERONNE   69938  1015-11-13 00:00:00        0.0   \n93462       TUFFE VAL DE LA CHERONNE   69938  1015-11-13 00:00:00        0.0   \n93463       TUFFE VAL DE LA CHERONNE   69938  1015-11-13 00:00:00        0.0   \n93464       TUFFE VAL DE LA CHERONNE   69938  1015-11-13 00:00:00        0.0   \n93762       TUFFE VAL DE LA CHERONNE   69938  1015-11-13 00:00:00        0.0   \n117009                      ARCONNAY   80746  1899-12-30 00:00:00        0.0   \n130390  BAGNOLES DE L ORNE NORMANDIE   87671  1899-12-30 00:00:00        0.0   \n130583  BAGNOLES DE L ORNE NORMANDIE   87671  1899-12-30 00:00:00        0.0   \n\n        timbrecde  ...  qte  Colis                 libobj   Tailleobj  \\\n37524        9.70  ...  5.0    1.0           Drap de bain         NaN   \n37525        9.70  ...  1.0    1.0                  Flyer         NaN   \n57936        4.60  ...  1.0    1.0           Drap de bain         NaN   \n57937        4.60  ...  1.0    1.0                  Flyer         NaN   \n93461        8.00  ...  3.0    1.0           Drap de bain         NaN   \n93462        8.00  ...  1.0    1.0                 Montre       Homme   \n93463        8.00  ...  1.0    1.0          Jeu de cartes         NaN   \n93464        8.00  ...  1.0    1.0             Flyer 2014         NaN   \n93762        8.00  ...  1.0    1.0  Points Bonus Fidelite         NaN   \n117009       2.75  ...  1.0    1.0      Couverts a Salade  Confidence   \n130390       2.10  ...  1.0    1.0                 Montre       Femme   \n130583       2.10  ...  1.0    1.0                 Montre       Femme   \n\n        Poidsobj  points  indispobj               libcondit prixcond  puobj  \n37524        400    80.0          0           Carton Ballon        0      0  \n37525          0     0.0          0           Carton Ballon        0      0  \n57936        400    80.0          0  Enveloppe Drap de Bain        0      0  \n57937          0     0.0          0  Enveloppe Drap de Bain        0      0  \n93461        400    80.0          0           Carton Ballon        0      0  \n93462         30   150.0          0           Carton Ballon        0      0  \n93463         60    20.0          0           Carton Ballon        0      0  \n93464          0     0.0          0           Carton Ballon        0      0  \n93762          0  -500.0          0           Carton Ballon        0      0  \n117009       180   120.0          0          Distingo 500 g       34      0  \n130390        20   150.0          0           Distingo 50 g      132      0  \n130583        20   150.0          0           Distingo 50 g      132      0  \n\n[12 rows x 25 columns]",
      "text/html": "<div>\n<style scoped>\n    .dataframe tbody tr th:only-of-type {\n        vertical-align: middle;\n    }\n\n    .dataframe tbody tr th {\n        vertical-align: top;\n    }\n\n    .dataframe thead th {\n        text-align: right;\n    }\n</style>\n<table border=\"1\" class=\"dataframe\">\n  <thead>\n    <tr style=\"text-align: right;\">\n      <th></th>\n      <th>codcli</th>\n      <th>genrecli</th>\n      <th>nomcli</th>\n      <th>prenomcli</th>\n      <th>cpcli</th>\n      <th>villecli</th>\n      <th>codcde</th>\n      <th>datcde</th>\n      <th>timbrecli</th>\n      <th>timbrecde</th>\n      <th>...</th>\n      <th>qte</th>\n      <th>Colis</th>\n      <th>libobj</th>\n      <th>Tailleobj</th>\n      <th>Poidsobj</th>\n      <th>points</th>\n      <th>indispobj</th>\n      <th>libcondit</th>\n      <th>prixcond</th>\n      <th>puobj</th>\n    </tr>\n  </thead>\n  <tbody>\n    <tr>\n      <th>37524</th>\n      <td>29360</td>\n      <td>M. &amp; Mme</td>\n      <td>BIARD</td>\n      <td>Pierre</td>\n      <td>72320</td>\n      <td>VIBRAYE</td>\n      <td>44592</td>\n      <td>NaN</td>\n      <td>0.0</td>\n      <td>9.70</td>\n      <td>...</td>\n      <td>5.0</td>\n      <td>1.0</td>\n      <td>Drap de bain</td>\n      <td>NaN</td>\n      <td>400</td>\n      <td>80.0</td>\n      <td>0</td>\n      <td>Carton Ballon</td>\n      <td>0</td>\n      <td>0</td>\n    </tr>\n    <tr>\n      <th>37525</th>\n      <td>29360</td>\n      <td>M. &amp; Mme</td>\n      <td>BIARD</td>\n      <td>Pierre</td>\n      <td>72320</td>\n      <td>VIBRAYE</td>\n      <td>44592</td>\n      <td>NaN</td>\n      <td>0.0</td>\n      <td>9.70</td>\n      <td>...</td>\n      <td>1.0</td>\n      <td>1.0</td>\n      <td>Flyer</td>\n      <td>NaN</td>\n      <td>0</td>\n      <td>0.0</td>\n      <td>0</td>\n      <td>Carton Ballon</td>\n      <td>0</td>\n      <td>0</td>\n    </tr>\n    <tr>\n      <th>57936</th>\n      <td>1247</td>\n      <td>Mme</td>\n      <td>HAREL</td>\n      <td>Marie-Anne</td>\n      <td>44370</td>\n      <td>LOIREAUXENCE</td>\n      <td>53937</td>\n      <td>1899-12-30 00:00:00</td>\n      <td>0.0</td>\n      <td>4.60</td>\n      <td>...</td>\n      <td>1.0</td>\n      <td>1.0</td>\n      <td>Drap de bain</td>\n      <td>NaN</td>\n      <td>400</td>\n      <td>80.0</td>\n      <td>0</td>\n      <td>Enveloppe Drap de Bain</td>\n      <td>0</td>\n      <td>0</td>\n    </tr>\n    <tr>\n      <th>57937</th>\n      <td>1247</td>\n      <td>Mme</td>\n      <td>HAREL</td>\n      <td>Marie-Anne</td>\n      <td>44370</td>\n      <td>LOIREAUXENCE</td>\n      <td>53937</td>\n      <td>1899-12-30 00:00:00</td>\n      <td>0.0</td>\n      <td>4.60</td>\n      <td>...</td>\n      <td>1.0</td>\n      <td>1.0</td>\n      <td>Flyer</td>\n      <td>NaN</td>\n      <td>0</td>\n      <td>0.0</td>\n      <td>0</td>\n      <td>Enveloppe Drap de Bain</td>\n      <td>0</td>\n      <td>0</td>\n    </tr>\n    <tr>\n      <th>93461</th>\n      <td>3490</td>\n      <td>Mme</td>\n      <td>GAUTIER</td>\n      <td>Marguerite</td>\n      <td>72160</td>\n      <td>TUFFE VAL DE LA CHERONNE</td>\n      <td>69938</td>\n      <td>1015-11-13 00:00:00</td>\n      <td>0.0</td>\n      <td>8.00</td>\n      <td>...</td>\n      <td>3.0</td>\n      <td>1.0</td>\n      <td>Drap de bain</td>\n      <td>NaN</td>\n      <td>400</td>\n      <td>80.0</td>\n      <td>0</td>\n      <td>Carton Ballon</td>\n      <td>0</td>\n      <td>0</td>\n    </tr>\n    <tr>\n      <th>93462</th>\n      <td>3490</td>\n      <td>Mme</td>\n      <td>GAUTIER</td>\n      <td>Marguerite</td>\n      <td>72160</td>\n      <td>TUFFE VAL DE LA CHERONNE</td>\n      <td>69938</td>\n      <td>1015-11-13 00:00:00</td>\n      <td>0.0</td>\n      <td>8.00</td>\n      <td>...</td>\n      <td>1.0</td>\n      <td>1.0</td>\n      <td>Montre</td>\n      <td>Homme</td>\n      <td>30</td>\n      <td>150.0</td>\n      <td>0</td>\n      <td>Carton Ballon</td>\n      <td>0</td>\n      <td>0</td>\n    </tr>\n    <tr>\n      <th>93463</th>\n      <td>3490</td>\n      <td>Mme</td>\n      <td>GAUTIER</td>\n      <td>Marguerite</td>\n      <td>72160</td>\n      <td>TUFFE VAL DE LA CHERONNE</td>\n      <td>69938</td>\n      <td>1015-11-13 00:00:00</td>\n      <td>0.0</td>\n      <td>8.00</td>\n      <td>...</td>\n      <td>1.0</td>\n      <td>1.0</td>\n      <td>Jeu de cartes</td>\n      <td>NaN</td>\n      <td>60</td>\n      <td>20.0</td>\n      <td>0</td>\n      <td>Carton Ballon</td>\n      <td>0</td>\n      <td>0</td>\n    </tr>\n    <tr>\n      <th>93464</th>\n      <td>3490</td>\n      <td>Mme</td>\n      <td>GAUTIER</td>\n      <td>Marguerite</td>\n      <td>72160</td>\n      <td>TUFFE VAL DE LA CHERONNE</td>\n      <td>69938</td>\n      <td>1015-11-13 00:00:00</td>\n      <td>0.0</td>\n      <td>8.00</td>\n      <td>...</td>\n      <td>1.0</td>\n      <td>1.0</td>\n      <td>Flyer 2014</td>\n      <td>NaN</td>\n      <td>0</td>\n      <td>0.0</td>\n      <td>0</td>\n      <td>Carton Ballon</td>\n      <td>0</td>\n      <td>0</td>\n    </tr>\n    <tr>\n      <th>93762</th>\n      <td>3490</td>\n      <td>Mme</td>\n      <td>GAUTIER</td>\n      <td>Marguerite</td>\n      <td>72160</td>\n      <td>TUFFE VAL DE LA CHERONNE</td>\n      <td>69938</td>\n      <td>1015-11-13 00:00:00</td>\n      <td>0.0</td>\n      <td>8.00</td>\n      <td>...</td>\n      <td>1.0</td>\n      <td>1.0</td>\n      <td>Points Bonus Fidelite</td>\n      <td>NaN</td>\n      <td>0</td>\n      <td>-500.0</td>\n      <td>0</td>\n      <td>Carton Ballon</td>\n      <td>0</td>\n      <td>0</td>\n    </tr>\n    <tr>\n      <th>117009</th>\n      <td>39073</td>\n      <td>Mme</td>\n      <td>CHESNAIS</td>\n      <td>Brigitte</td>\n      <td>72610</td>\n      <td>ARCONNAY</td>\n      <td>80746</td>\n      <td>1899-12-30 00:00:00</td>\n      <td>0.0</td>\n      <td>2.75</td>\n      <td>...</td>\n      <td>1.0</td>\n      <td>1.0</td>\n      <td>Couverts a Salade</td>\n      <td>Confidence</td>\n      <td>180</td>\n      <td>120.0</td>\n      <td>0</td>\n      <td>Distingo 500 g</td>\n      <td>34</td>\n      <td>0</td>\n    </tr>\n    <tr>\n      <th>130390</th>\n      <td>40679</td>\n      <td>Mme</td>\n      <td>LUCE</td>\n      <td>Arlette</td>\n      <td>61140</td>\n      <td>BAGNOLES DE L ORNE NORMANDIE</td>\n      <td>87671</td>\n      <td>1899-12-30 00:00:00</td>\n      <td>0.0</td>\n      <td>2.10</td>\n      <td>...</td>\n      <td>1.0</td>\n      <td>1.0</td>\n      <td>Montre</td>\n      <td>Femme</td>\n      <td>20</td>\n      <td>150.0</td>\n      <td>0</td>\n      <td>Distingo 50 g</td>\n      <td>132</td>\n      <td>0</td>\n    </tr>\n    <tr>\n      <th>130583</th>\n      <td>40679</td>\n      <td>Mme</td>\n      <td>LUCE</td>\n      <td>Arlette</td>\n      <td>61140</td>\n      <td>BAGNOLES DE L ORNE NORMANDIE</td>\n      <td>87671</td>\n      <td>1899-12-30 00:00:00</td>\n      <td>0.0</td>\n      <td>2.10</td>\n      <td>...</td>\n      <td>1.0</td>\n      <td>1.0</td>\n      <td>Montre</td>\n      <td>Femme</td>\n      <td>20</td>\n      <td>150.0</td>\n      <td>0</td>\n      <td>Distingo 50 g</td>\n      <td>132</td>\n      <td>0</td>\n    </tr>\n  </tbody>\n</table>\n<p>12 rows × 25 columns</p>\n</div>"
     },
     "execution_count": 3,
     "metadata": {},
     "output_type": "execute_result"
    }
   ],
   "source": [
    "df_check_date = df[-df['datcde'].str.startswith('2', na=False)]\n",
    "df_check_date"
   ],
   "metadata": {
    "collapsed": false,
    "pycharm": {
     "name": "#%%\n"
    }
   }
  },
  {
   "cell_type": "markdown",
   "source": [
    "# On recupere les dates commencant par 20"
   ],
   "metadata": {
    "collapsed": false,
    "pycharm": {
     "name": "#%% md\n"
    }
   }
  },
  {
   "cell_type": "code",
   "execution_count": 4,
   "outputs": [],
   "source": [
    "df_clean_date = df[df['datcde'].str.startswith('20', na=False)]"
   ],
   "metadata": {
    "collapsed": false,
    "pycharm": {
     "name": "#%%\n"
    }
   }
  },
  {
   "cell_type": "markdown",
   "source": [
    "# Convertir datcde en date"
   ],
   "metadata": {
    "collapsed": false,
    "pycharm": {
     "name": "#%% md\n"
    }
   }
  },
  {
   "cell_type": "code",
   "execution_count": 5,
   "outputs": [
    {
     "name": "stderr",
     "output_type": "stream",
     "text": [
      "C:\\Users\\eyfat\\AppData\\Local\\Temp\\ipykernel_7840\\4184652200.py:2: SettingWithCopyWarning: \n",
      "A value is trying to be set on a copy of a slice from a DataFrame.\n",
      "Try using .loc[row_indexer,col_indexer] = value instead\n",
      "\n",
      "See the caveats in the documentation: https://pandas.pydata.org/pandas-docs/stable/user_guide/indexing.html#returning-a-view-versus-a-copy\n",
      "  df_clean_date['datcde'] = pd.to_datetime(df_clean_date['datcde'])\n",
      "C:\\Users\\eyfat\\AppData\\Local\\Temp\\ipykernel_7840\\4184652200.py:5: SettingWithCopyWarning: \n",
      "A value is trying to be set on a copy of a slice from a DataFrame.\n",
      "Try using .loc[row_indexer,col_indexer] = value instead\n",
      "\n",
      "See the caveats in the documentation: https://pandas.pydata.org/pandas-docs/stable/user_guide/indexing.html#returning-a-view-versus-a-copy\n",
      "  df_clean_date['annee'] = df_clean_date['datcde'].dt.year\n"
     ]
    },
    {
     "data": {
      "text/plain": "   codcli genrecli    nomcli prenomcli  cpcli    villecli  codcde     datcde  \\\n0     446      Mme  CHRETIEN    Daniel  14540  BOURGUEBUS     478 2004-10-22   \n1     446      Mme  CHRETIEN    Daniel  14540  BOURGUEBUS     478 2004-10-22   \n2     446      Mme  CHRETIEN    Daniel  14540  BOURGUEBUS     478 2004-10-22   \n3   17860       M.   VERARDO   Anthony  35400  SAINT MALO   21239 2006-10-03   \n4    1330      Mme    ROBERT    Yvonne  61000     ALENCON    1386 2004-11-23   \n\n   timbrecli  timbrecde  ...  Colis            libobj   Tailleobj  Poidsobj  \\\n0        5.0        4.8  ...    1.0              Polo          XL       230   \n1        5.0        4.8  ...    1.0     T-shirt Blanc           L       170   \n2        5.0        4.8  ...    1.0            Montre       Homme        30   \n3        0.0        3.9  ...    1.0     T-shirt Blanc          XL       180   \n4        4.0        6.5  ...    1.0  Tete de menagere  Confidence       250   \n\n   points  indispobj                libcondit prixcond puobj  annee  \n0    60.0          0  Carton Tete de menagere        0     0   2004  \n1    60.0          0  Carton Tete de menagere        0     0   2004  \n2   150.0          0  Carton Tete de menagere        0     0   2004  \n3    60.0          0           Distingo 500 g       34     0   2006  \n4   100.0          0  Carton Tete de menagere        0     0   2004  \n\n[5 rows x 26 columns]",
      "text/html": "<div>\n<style scoped>\n    .dataframe tbody tr th:only-of-type {\n        vertical-align: middle;\n    }\n\n    .dataframe tbody tr th {\n        vertical-align: top;\n    }\n\n    .dataframe thead th {\n        text-align: right;\n    }\n</style>\n<table border=\"1\" class=\"dataframe\">\n  <thead>\n    <tr style=\"text-align: right;\">\n      <th></th>\n      <th>codcli</th>\n      <th>genrecli</th>\n      <th>nomcli</th>\n      <th>prenomcli</th>\n      <th>cpcli</th>\n      <th>villecli</th>\n      <th>codcde</th>\n      <th>datcde</th>\n      <th>timbrecli</th>\n      <th>timbrecde</th>\n      <th>...</th>\n      <th>Colis</th>\n      <th>libobj</th>\n      <th>Tailleobj</th>\n      <th>Poidsobj</th>\n      <th>points</th>\n      <th>indispobj</th>\n      <th>libcondit</th>\n      <th>prixcond</th>\n      <th>puobj</th>\n      <th>annee</th>\n    </tr>\n  </thead>\n  <tbody>\n    <tr>\n      <th>0</th>\n      <td>446</td>\n      <td>Mme</td>\n      <td>CHRETIEN</td>\n      <td>Daniel</td>\n      <td>14540</td>\n      <td>BOURGUEBUS</td>\n      <td>478</td>\n      <td>2004-10-22</td>\n      <td>5.0</td>\n      <td>4.8</td>\n      <td>...</td>\n      <td>1.0</td>\n      <td>Polo</td>\n      <td>XL</td>\n      <td>230</td>\n      <td>60.0</td>\n      <td>0</td>\n      <td>Carton Tete de menagere</td>\n      <td>0</td>\n      <td>0</td>\n      <td>2004</td>\n    </tr>\n    <tr>\n      <th>1</th>\n      <td>446</td>\n      <td>Mme</td>\n      <td>CHRETIEN</td>\n      <td>Daniel</td>\n      <td>14540</td>\n      <td>BOURGUEBUS</td>\n      <td>478</td>\n      <td>2004-10-22</td>\n      <td>5.0</td>\n      <td>4.8</td>\n      <td>...</td>\n      <td>1.0</td>\n      <td>T-shirt Blanc</td>\n      <td>L</td>\n      <td>170</td>\n      <td>60.0</td>\n      <td>0</td>\n      <td>Carton Tete de menagere</td>\n      <td>0</td>\n      <td>0</td>\n      <td>2004</td>\n    </tr>\n    <tr>\n      <th>2</th>\n      <td>446</td>\n      <td>Mme</td>\n      <td>CHRETIEN</td>\n      <td>Daniel</td>\n      <td>14540</td>\n      <td>BOURGUEBUS</td>\n      <td>478</td>\n      <td>2004-10-22</td>\n      <td>5.0</td>\n      <td>4.8</td>\n      <td>...</td>\n      <td>1.0</td>\n      <td>Montre</td>\n      <td>Homme</td>\n      <td>30</td>\n      <td>150.0</td>\n      <td>0</td>\n      <td>Carton Tete de menagere</td>\n      <td>0</td>\n      <td>0</td>\n      <td>2004</td>\n    </tr>\n    <tr>\n      <th>3</th>\n      <td>17860</td>\n      <td>M.</td>\n      <td>VERARDO</td>\n      <td>Anthony</td>\n      <td>35400</td>\n      <td>SAINT MALO</td>\n      <td>21239</td>\n      <td>2006-10-03</td>\n      <td>0.0</td>\n      <td>3.9</td>\n      <td>...</td>\n      <td>1.0</td>\n      <td>T-shirt Blanc</td>\n      <td>XL</td>\n      <td>180</td>\n      <td>60.0</td>\n      <td>0</td>\n      <td>Distingo 500 g</td>\n      <td>34</td>\n      <td>0</td>\n      <td>2006</td>\n    </tr>\n    <tr>\n      <th>4</th>\n      <td>1330</td>\n      <td>Mme</td>\n      <td>ROBERT</td>\n      <td>Yvonne</td>\n      <td>61000</td>\n      <td>ALENCON</td>\n      <td>1386</td>\n      <td>2004-11-23</td>\n      <td>4.0</td>\n      <td>6.5</td>\n      <td>...</td>\n      <td>1.0</td>\n      <td>Tete de menagere</td>\n      <td>Confidence</td>\n      <td>250</td>\n      <td>100.0</td>\n      <td>0</td>\n      <td>Carton Tete de menagere</td>\n      <td>0</td>\n      <td>0</td>\n      <td>2004</td>\n    </tr>\n  </tbody>\n</table>\n<p>5 rows × 26 columns</p>\n</div>"
     },
     "execution_count": 5,
     "metadata": {},
     "output_type": "execute_result"
    }
   ],
   "source": [
    "# Convertir la colonne 'datcde' en datetime\n",
    "df_clean_date['datcde'] = pd.to_datetime(df_clean_date['datcde'])\n",
    "\n",
    "# Ajouter une colonne \"année\"\n",
    "df_clean_date['annee'] = df_clean_date['datcde'].dt.year\n",
    "df_clean_date.head()"
   ],
   "metadata": {
    "collapsed": false,
    "pycharm": {
     "name": "#%%\n"
    }
   }
  },
  {
   "cell_type": "code",
   "execution_count": 6,
   "outputs": [
    {
     "name": "stdout",
     "output_type": "stream",
     "text": [
      "<class 'pandas.core.frame.DataFrame'>\n",
      "Int64Index: 135265 entries, 0 to 135276\n",
      "Data columns (total 26 columns):\n",
      " #   Column     Non-Null Count   Dtype         \n",
      "---  ------     --------------   -----         \n",
      " 0   codcli     135265 non-null  int64         \n",
      " 1   genrecli   134540 non-null  object        \n",
      " 2   nomcli     135265 non-null  object        \n",
      " 3   prenomcli  134941 non-null  object        \n",
      " 4   cpcli      135265 non-null  int64         \n",
      " 5   villecli   135265 non-null  object        \n",
      " 6   codcde     135265 non-null  int64         \n",
      " 7   datcde     135265 non-null  datetime64[ns]\n",
      " 8   timbrecli  135261 non-null  float64       \n",
      " 9   timbrecde  135256 non-null  float64       \n",
      " 10  Nbcolis    135257 non-null  float64       \n",
      " 11  cheqcli    135222 non-null  float64       \n",
      " 12  barchive   135265 non-null  int64         \n",
      " 13  bstock     135265 non-null  int64         \n",
      " 14  codobj     135265 non-null  int64         \n",
      " 15  qte        135262 non-null  float64       \n",
      " 16  Colis      135257 non-null  float64       \n",
      " 17  libobj     135265 non-null  object        \n",
      " 18  Tailleobj  48554 non-null   object        \n",
      " 19  Poidsobj   135265 non-null  int64         \n",
      " 20  points     135003 non-null  float64       \n",
      " 21  indispobj  135265 non-null  int64         \n",
      " 22  libcondit  135265 non-null  object        \n",
      " 23  prixcond   135265 non-null  int64         \n",
      " 24  puobj      135265 non-null  int64         \n",
      " 25  annee      135265 non-null  int64         \n",
      "dtypes: datetime64[ns](1), float64(7), int64(11), object(7)\n",
      "memory usage: 27.9+ MB\n"
     ]
    }
   ],
   "source": [
    "df_clean_date.info()"
   ],
   "metadata": {
    "collapsed": false,
    "pycharm": {
     "name": "#%%\n"
    }
   }
  },
  {
   "cell_type": "markdown",
   "source": [
    "# Colis vs Nbcolis"
   ],
   "metadata": {
    "collapsed": false,
    "pycharm": {
     "name": "#%% md\n"
    }
   }
  },
  {
   "cell_type": "code",
   "execution_count": 7,
   "outputs": [
    {
     "data": {
      "text/plain": "codcli                     13314\ngenrecli                     Mme\nnomcli                   BERTRON\nprenomcli              Madeleine\ncpcli                      53230\nvillecli         COSSE LE VIVIEN\ncodcde                     14925\ndatcde       2006-01-30 00:00:00\ntimbrecli                    0.0\ntimbrecde                   11.6\nNbcolis                      2.0\ncheqcli                     12.0\nbarchive                       1\nbstock                         1\ncodobj                        41\nqte                          4.0\nColis                        1.0\nlibobj              Drap de bain\nTailleobj                    NaN\nPoidsobj                     400\npoints                      80.0\nindispobj                      0\nlibcondit    Carton Drap de Bain\nprixcond                       0\npuobj                          0\nannee                       2006\nName: 44, dtype: object"
     },
     "execution_count": 7,
     "metadata": {},
     "output_type": "execute_result"
    }
   ],
   "source": [
    "df_clean_date.iloc[44]"
   ],
   "metadata": {
    "collapsed": false,
    "pycharm": {
     "name": "#%%\n"
    }
   }
  },
  {
   "cell_type": "markdown",
   "source": [
    "# Ajout colonne code departement"
   ],
   "metadata": {
    "collapsed": false,
    "pycharm": {
     "name": "#%% md\n"
    }
   }
  },
  {
   "cell_type": "code",
   "execution_count": 8,
   "outputs": [
    {
     "name": "stderr",
     "output_type": "stream",
     "text": [
      "C:\\Users\\eyfat\\AppData\\Local\\Temp\\ipykernel_7840\\428901041.py:1: SettingWithCopyWarning: \n",
      "A value is trying to be set on a copy of a slice from a DataFrame.\n",
      "Try using .loc[row_indexer,col_indexer] = value instead\n",
      "\n",
      "See the caveats in the documentation: https://pandas.pydata.org/pandas-docs/stable/user_guide/indexing.html#returning-a-view-versus-a-copy\n",
      "  df_clean_date[\"code_departement\"] = (df_clean_date['cpcli'] // 1000)\n"
     ]
    },
    {
     "data": {
      "text/plain": "        codcli  genrecli    nomcli   prenomcli  cpcli    villecli  codcde  \\\n0          446       Mme  CHRETIEN      Daniel  14540  BOURGUEBUS     478   \n1          446       Mme  CHRETIEN      Daniel  14540  BOURGUEBUS     478   \n2          446       Mme  CHRETIEN      Daniel  14540  BOURGUEBUS     478   \n3        17860        M.   VERARDO     Anthony  35400  SAINT MALO   21239   \n4         1330       Mme    ROBERT      Yvonne  61000     ALENCON    1386   \n...        ...       ...       ...         ...    ...         ...     ...   \n135272   39079  M. & Mme   GERMAIN   Christian  59600    ASSEVENT   90038   \n135273   41291        M.   GERMAIN  Christophe  24100    BERGERAC   90047   \n135274   41291        M.   GERMAIN  Christophe  24100    BERGERAC   90047   \n135275   41291        M.   GERMAIN  Christophe  24100    BERGERAC   90048   \n135276   41291        M.   GERMAIN  Christophe  24100    BERGERAC   90048   \n\n           datcde  timbrecli  timbrecde  ...              libobj   Tailleobj  \\\n0      2004-10-22        5.0       4.80  ...                Polo          XL   \n1      2004-10-22        5.0       4.80  ...       T-shirt Blanc           L   \n2      2004-10-22        5.0       4.80  ...              Montre       Homme   \n3      2006-10-03        0.0       3.90  ...       T-shirt Blanc          XL   \n4      2004-11-23        4.0       6.50  ...    Tete de menagere  Confidence   \n...           ...        ...        ...  ...                 ...         ...   \n135272 2021-07-26        0.0       7.35  ...  Cloche a camembert         NaN   \n135273 2021-07-26        4.5       8.80  ...    Tete de menagere  Confidence   \n135274 2021-07-26        4.5       8.80  ...       T-shirt Blanc           M   \n135275 2021-07-26        4.2       7.95  ...       T-shirt Blanc   12-14 ans   \n135276 2021-07-26        4.2       7.95  ...             Peluche         NaN   \n\n        Poidsobj  points  indispobj                libcondit  prixcond puobj  \\\n0            230    60.0          0  Carton Tete de menagere         0     0   \n1            170    60.0          0  Carton Tete de menagere         0     0   \n2             30   150.0          0  Carton Tete de menagere         0     0   \n3            180    60.0          0           Distingo 500 g        34     0   \n4            250   100.0          0  Carton Tete de menagere         0     0   \n...          ...     ...        ...                      ...       ...   ...   \n135272       540    50.0          0              Carton 5 kg         0     0   \n135273       250   100.0          0       Lettre Suivie 1 Kg       545     0   \n135274       160    60.0          0       Lettre Suivie 1 Kg       545     0   \n135275       115    60.0          0       Lettre Suivie 2 Kg       655     0   \n135276       200   100.0          0       Lettre Suivie 2 Kg       655     0   \n\n       annee  code_departement  \n0       2004                14  \n1       2004                14  \n2       2004                14  \n3       2006                35  \n4       2004                61  \n...      ...               ...  \n135272  2021                59  \n135273  2021                24  \n135274  2021                24  \n135275  2021                24  \n135276  2021                24  \n\n[135265 rows x 27 columns]",
      "text/html": "<div>\n<style scoped>\n    .dataframe tbody tr th:only-of-type {\n        vertical-align: middle;\n    }\n\n    .dataframe tbody tr th {\n        vertical-align: top;\n    }\n\n    .dataframe thead th {\n        text-align: right;\n    }\n</style>\n<table border=\"1\" class=\"dataframe\">\n  <thead>\n    <tr style=\"text-align: right;\">\n      <th></th>\n      <th>codcli</th>\n      <th>genrecli</th>\n      <th>nomcli</th>\n      <th>prenomcli</th>\n      <th>cpcli</th>\n      <th>villecli</th>\n      <th>codcde</th>\n      <th>datcde</th>\n      <th>timbrecli</th>\n      <th>timbrecde</th>\n      <th>...</th>\n      <th>libobj</th>\n      <th>Tailleobj</th>\n      <th>Poidsobj</th>\n      <th>points</th>\n      <th>indispobj</th>\n      <th>libcondit</th>\n      <th>prixcond</th>\n      <th>puobj</th>\n      <th>annee</th>\n      <th>code_departement</th>\n    </tr>\n  </thead>\n  <tbody>\n    <tr>\n      <th>0</th>\n      <td>446</td>\n      <td>Mme</td>\n      <td>CHRETIEN</td>\n      <td>Daniel</td>\n      <td>14540</td>\n      <td>BOURGUEBUS</td>\n      <td>478</td>\n      <td>2004-10-22</td>\n      <td>5.0</td>\n      <td>4.80</td>\n      <td>...</td>\n      <td>Polo</td>\n      <td>XL</td>\n      <td>230</td>\n      <td>60.0</td>\n      <td>0</td>\n      <td>Carton Tete de menagere</td>\n      <td>0</td>\n      <td>0</td>\n      <td>2004</td>\n      <td>14</td>\n    </tr>\n    <tr>\n      <th>1</th>\n      <td>446</td>\n      <td>Mme</td>\n      <td>CHRETIEN</td>\n      <td>Daniel</td>\n      <td>14540</td>\n      <td>BOURGUEBUS</td>\n      <td>478</td>\n      <td>2004-10-22</td>\n      <td>5.0</td>\n      <td>4.80</td>\n      <td>...</td>\n      <td>T-shirt Blanc</td>\n      <td>L</td>\n      <td>170</td>\n      <td>60.0</td>\n      <td>0</td>\n      <td>Carton Tete de menagere</td>\n      <td>0</td>\n      <td>0</td>\n      <td>2004</td>\n      <td>14</td>\n    </tr>\n    <tr>\n      <th>2</th>\n      <td>446</td>\n      <td>Mme</td>\n      <td>CHRETIEN</td>\n      <td>Daniel</td>\n      <td>14540</td>\n      <td>BOURGUEBUS</td>\n      <td>478</td>\n      <td>2004-10-22</td>\n      <td>5.0</td>\n      <td>4.80</td>\n      <td>...</td>\n      <td>Montre</td>\n      <td>Homme</td>\n      <td>30</td>\n      <td>150.0</td>\n      <td>0</td>\n      <td>Carton Tete de menagere</td>\n      <td>0</td>\n      <td>0</td>\n      <td>2004</td>\n      <td>14</td>\n    </tr>\n    <tr>\n      <th>3</th>\n      <td>17860</td>\n      <td>M.</td>\n      <td>VERARDO</td>\n      <td>Anthony</td>\n      <td>35400</td>\n      <td>SAINT MALO</td>\n      <td>21239</td>\n      <td>2006-10-03</td>\n      <td>0.0</td>\n      <td>3.90</td>\n      <td>...</td>\n      <td>T-shirt Blanc</td>\n      <td>XL</td>\n      <td>180</td>\n      <td>60.0</td>\n      <td>0</td>\n      <td>Distingo 500 g</td>\n      <td>34</td>\n      <td>0</td>\n      <td>2006</td>\n      <td>35</td>\n    </tr>\n    <tr>\n      <th>4</th>\n      <td>1330</td>\n      <td>Mme</td>\n      <td>ROBERT</td>\n      <td>Yvonne</td>\n      <td>61000</td>\n      <td>ALENCON</td>\n      <td>1386</td>\n      <td>2004-11-23</td>\n      <td>4.0</td>\n      <td>6.50</td>\n      <td>...</td>\n      <td>Tete de menagere</td>\n      <td>Confidence</td>\n      <td>250</td>\n      <td>100.0</td>\n      <td>0</td>\n      <td>Carton Tete de menagere</td>\n      <td>0</td>\n      <td>0</td>\n      <td>2004</td>\n      <td>61</td>\n    </tr>\n    <tr>\n      <th>...</th>\n      <td>...</td>\n      <td>...</td>\n      <td>...</td>\n      <td>...</td>\n      <td>...</td>\n      <td>...</td>\n      <td>...</td>\n      <td>...</td>\n      <td>...</td>\n      <td>...</td>\n      <td>...</td>\n      <td>...</td>\n      <td>...</td>\n      <td>...</td>\n      <td>...</td>\n      <td>...</td>\n      <td>...</td>\n      <td>...</td>\n      <td>...</td>\n      <td>...</td>\n      <td>...</td>\n    </tr>\n    <tr>\n      <th>135272</th>\n      <td>39079</td>\n      <td>M. &amp; Mme</td>\n      <td>GERMAIN</td>\n      <td>Christian</td>\n      <td>59600</td>\n      <td>ASSEVENT</td>\n      <td>90038</td>\n      <td>2021-07-26</td>\n      <td>0.0</td>\n      <td>7.35</td>\n      <td>...</td>\n      <td>Cloche a camembert</td>\n      <td>NaN</td>\n      <td>540</td>\n      <td>50.0</td>\n      <td>0</td>\n      <td>Carton 5 kg</td>\n      <td>0</td>\n      <td>0</td>\n      <td>2021</td>\n      <td>59</td>\n    </tr>\n    <tr>\n      <th>135273</th>\n      <td>41291</td>\n      <td>M.</td>\n      <td>GERMAIN</td>\n      <td>Christophe</td>\n      <td>24100</td>\n      <td>BERGERAC</td>\n      <td>90047</td>\n      <td>2021-07-26</td>\n      <td>4.5</td>\n      <td>8.80</td>\n      <td>...</td>\n      <td>Tete de menagere</td>\n      <td>Confidence</td>\n      <td>250</td>\n      <td>100.0</td>\n      <td>0</td>\n      <td>Lettre Suivie 1 Kg</td>\n      <td>545</td>\n      <td>0</td>\n      <td>2021</td>\n      <td>24</td>\n    </tr>\n    <tr>\n      <th>135274</th>\n      <td>41291</td>\n      <td>M.</td>\n      <td>GERMAIN</td>\n      <td>Christophe</td>\n      <td>24100</td>\n      <td>BERGERAC</td>\n      <td>90047</td>\n      <td>2021-07-26</td>\n      <td>4.5</td>\n      <td>8.80</td>\n      <td>...</td>\n      <td>T-shirt Blanc</td>\n      <td>M</td>\n      <td>160</td>\n      <td>60.0</td>\n      <td>0</td>\n      <td>Lettre Suivie 1 Kg</td>\n      <td>545</td>\n      <td>0</td>\n      <td>2021</td>\n      <td>24</td>\n    </tr>\n    <tr>\n      <th>135275</th>\n      <td>41291</td>\n      <td>M.</td>\n      <td>GERMAIN</td>\n      <td>Christophe</td>\n      <td>24100</td>\n      <td>BERGERAC</td>\n      <td>90048</td>\n      <td>2021-07-26</td>\n      <td>4.2</td>\n      <td>7.95</td>\n      <td>...</td>\n      <td>T-shirt Blanc</td>\n      <td>12-14 ans</td>\n      <td>115</td>\n      <td>60.0</td>\n      <td>0</td>\n      <td>Lettre Suivie 2 Kg</td>\n      <td>655</td>\n      <td>0</td>\n      <td>2021</td>\n      <td>24</td>\n    </tr>\n    <tr>\n      <th>135276</th>\n      <td>41291</td>\n      <td>M.</td>\n      <td>GERMAIN</td>\n      <td>Christophe</td>\n      <td>24100</td>\n      <td>BERGERAC</td>\n      <td>90048</td>\n      <td>2021-07-26</td>\n      <td>4.2</td>\n      <td>7.95</td>\n      <td>...</td>\n      <td>Peluche</td>\n      <td>NaN</td>\n      <td>200</td>\n      <td>100.0</td>\n      <td>0</td>\n      <td>Lettre Suivie 2 Kg</td>\n      <td>655</td>\n      <td>0</td>\n      <td>2021</td>\n      <td>24</td>\n    </tr>\n  </tbody>\n</table>\n<p>135265 rows × 27 columns</p>\n</div>"
     },
     "execution_count": 8,
     "metadata": {},
     "output_type": "execute_result"
    }
   ],
   "source": [
    "df_clean_date[\"code_departement\"] = (df_clean_date['cpcli'] // 1000)\n",
    "df_clean_date"
   ],
   "metadata": {
    "collapsed": false,
    "pycharm": {
     "name": "#%%\n"
    }
   }
  },
  {
   "cell_type": "markdown",
   "source": [
    "# Data Profiling --explo"
   ],
   "metadata": {
    "collapsed": false,
    "pycharm": {
     "name": "#%% md\n"
    }
   }
  },
  {
   "cell_type": "code",
   "execution_count": 9,
   "outputs": [
    {
     "data": {
      "text/plain": "        codcli  genrecli   nomcli  prenomcli  cpcli           villecli  \\\n8913     18809       Mme   MOREAU  Francoise  62153  ABLAIN ST NAZAIRE   \n106356   36577  M. & Mme  FRETARD     Marcel  72350             BRULON   \n106357   36577  M. & Mme  FRETARD     Marcel  72350             BRULON   \n114004   38721       Mme  DILLIEU   Marylene  79700            MAULEON   \n\n        codcde               datcde  timbrecli  timbrecde  ...  qte  Colis  \\\n8913     22535  2006-11-28 00:00:00        NaN        1.8  ...  1.0    1.0   \n106356   75378  2017-02-15 00:00:00        NaN        7.4  ...  2.0    1.0   \n106357   75378  2017-02-15 00:00:00        NaN        7.4  ...  1.0    1.0   \n114004   78993  2018-02-23 00:00:00        NaN        6.1  ...  1.0    1.0   \n\n                  libobj  Tailleobj  Poidsobj  points  indispobj  \\\n8913       Jeu de cartes        NaN        60    20.0          0   \n106356  Couteaux a Steak        NaN       386    60.0          0   \n106357      Points Flyer        NaN         0   -20.0          0   \n114004      Drap de bain        NaN       400    80.0          0   \n\n                  libcondit prixcond  puobj  \n8913          Distingo 50 g      132      0  \n106356  Lettre Suivie 500 g       43      0  \n106357  Lettre Suivie 500 g       43      0  \n114004  Lettre Suivie 500 g       43      0  \n\n[4 rows x 25 columns]",
      "text/html": "<div>\n<style scoped>\n    .dataframe tbody tr th:only-of-type {\n        vertical-align: middle;\n    }\n\n    .dataframe tbody tr th {\n        vertical-align: top;\n    }\n\n    .dataframe thead th {\n        text-align: right;\n    }\n</style>\n<table border=\"1\" class=\"dataframe\">\n  <thead>\n    <tr style=\"text-align: right;\">\n      <th></th>\n      <th>codcli</th>\n      <th>genrecli</th>\n      <th>nomcli</th>\n      <th>prenomcli</th>\n      <th>cpcli</th>\n      <th>villecli</th>\n      <th>codcde</th>\n      <th>datcde</th>\n      <th>timbrecli</th>\n      <th>timbrecde</th>\n      <th>...</th>\n      <th>qte</th>\n      <th>Colis</th>\n      <th>libobj</th>\n      <th>Tailleobj</th>\n      <th>Poidsobj</th>\n      <th>points</th>\n      <th>indispobj</th>\n      <th>libcondit</th>\n      <th>prixcond</th>\n      <th>puobj</th>\n    </tr>\n  </thead>\n  <tbody>\n    <tr>\n      <th>8913</th>\n      <td>18809</td>\n      <td>Mme</td>\n      <td>MOREAU</td>\n      <td>Francoise</td>\n      <td>62153</td>\n      <td>ABLAIN ST NAZAIRE</td>\n      <td>22535</td>\n      <td>2006-11-28 00:00:00</td>\n      <td>NaN</td>\n      <td>1.8</td>\n      <td>...</td>\n      <td>1.0</td>\n      <td>1.0</td>\n      <td>Jeu de cartes</td>\n      <td>NaN</td>\n      <td>60</td>\n      <td>20.0</td>\n      <td>0</td>\n      <td>Distingo 50 g</td>\n      <td>132</td>\n      <td>0</td>\n    </tr>\n    <tr>\n      <th>106356</th>\n      <td>36577</td>\n      <td>M. &amp; Mme</td>\n      <td>FRETARD</td>\n      <td>Marcel</td>\n      <td>72350</td>\n      <td>BRULON</td>\n      <td>75378</td>\n      <td>2017-02-15 00:00:00</td>\n      <td>NaN</td>\n      <td>7.4</td>\n      <td>...</td>\n      <td>2.0</td>\n      <td>1.0</td>\n      <td>Couteaux a Steak</td>\n      <td>NaN</td>\n      <td>386</td>\n      <td>60.0</td>\n      <td>0</td>\n      <td>Lettre Suivie 500 g</td>\n      <td>43</td>\n      <td>0</td>\n    </tr>\n    <tr>\n      <th>106357</th>\n      <td>36577</td>\n      <td>M. &amp; Mme</td>\n      <td>FRETARD</td>\n      <td>Marcel</td>\n      <td>72350</td>\n      <td>BRULON</td>\n      <td>75378</td>\n      <td>2017-02-15 00:00:00</td>\n      <td>NaN</td>\n      <td>7.4</td>\n      <td>...</td>\n      <td>1.0</td>\n      <td>1.0</td>\n      <td>Points Flyer</td>\n      <td>NaN</td>\n      <td>0</td>\n      <td>-20.0</td>\n      <td>0</td>\n      <td>Lettre Suivie 500 g</td>\n      <td>43</td>\n      <td>0</td>\n    </tr>\n    <tr>\n      <th>114004</th>\n      <td>38721</td>\n      <td>Mme</td>\n      <td>DILLIEU</td>\n      <td>Marylene</td>\n      <td>79700</td>\n      <td>MAULEON</td>\n      <td>78993</td>\n      <td>2018-02-23 00:00:00</td>\n      <td>NaN</td>\n      <td>6.1</td>\n      <td>...</td>\n      <td>1.0</td>\n      <td>1.0</td>\n      <td>Drap de bain</td>\n      <td>NaN</td>\n      <td>400</td>\n      <td>80.0</td>\n      <td>0</td>\n      <td>Lettre Suivie 500 g</td>\n      <td>43</td>\n      <td>0</td>\n    </tr>\n  </tbody>\n</table>\n<p>4 rows × 25 columns</p>\n</div>"
     },
     "execution_count": 9,
     "metadata": {},
     "output_type": "execute_result"
    }
   ],
   "source": [
    "df[df[\"timbrecli\"].isna()]"
   ],
   "metadata": {
    "collapsed": false,
    "pycharm": {
     "name": "#%%\n"
    }
   }
  },
  {
   "cell_type": "code",
   "execution_count": 10,
   "outputs": [
    {
     "data": {
      "text/plain": "        codcli genrecli      nomcli prenomcli  cpcli villecli  codcde  \\\n183      13398      Mme       CRUET     Lydie  14000     CAEN   15038   \n199      13407      Mme       GRARD   Therese  14000     CAEN   15052   \n393      13514      Mme     KUBANIK   Chantal  14000     CAEN   15191   \n397      13517      Mme      GUELLE  Paulette  14000     CAEN   15194   \n438        968      Mme  LEMARCHAND    Claire  14000     CAEN   15227   \n...        ...      ...         ...       ...    ...      ...     ...   \n135160   31938    Melle      HEINZE     Peggy  14000     CAEN   89981   \n135169   13398      Mme       CRUET     Lydie  14000     CAEN   89986   \n135170   13398      Mme       CRUET     Lydie  14000     CAEN   89986   \n135185   17089       M.  FROIDEVAUX  Jean-Guy  14000     CAEN   89995   \n135186   17089       M.  FROIDEVAUX  Jean-Guy  14000     CAEN   89995   \n\n           datcde  timbrecli  timbrecde  ...                 libobj  \\\n183    2006-02-01       4.24       4.05  ...           Drap de bain   \n199    2006-01-31       3.71       5.10  ...       Tete de menagere   \n393    2006-02-10       0.00       5.10  ...                 Ballon   \n397    2006-02-07       0.78       0.64  ...                 Montre   \n438    2006-02-08       1.49       1.45  ...          T-shirt Blanc   \n...           ...        ...        ...  ...                    ...   \n135160 2021-07-15       0.00       7.95  ...              Sommelier   \n135169 2021-07-15       0.00       6.55  ...                Tablier   \n135170 2021-07-15       0.00       6.55  ...      T-shirt Miss Bleu   \n135185 2021-07-16       0.00       6.55  ...       Serviette + gant   \n135186 2021-07-16       0.00       6.55  ...  Points Bonus Fidelite   \n\n         Tailleobj  Poidsobj  points  indispobj                   libcondit  \\\n183            NaN       400    80.0          0      Enveloppe Drap de Bain   \n199     Confidence       250   100.0          0  Enveloppe Tete de menagere   \n393            NaN       440   100.0          0               Carton Ballon   \n397          Femme        20   150.0          0               Distingo 50 g   \n438       9-11 ans       105    60.0          0              Distingo 500 g   \n...            ...       ...     ...        ...                         ...   \n135160         NaN       115    40.0          0                Carton 10 kg   \n135169       Rouge       256    60.0          0         Lettre Suivie 500 g   \n135170         XXL       155    60.0          0         Lettre Suivie 500 g   \n135185         NaN       260    80.0          0         Lettre Suivie 500 g   \n135186         NaN         0  -500.0          0         Lettre Suivie 500 g   \n\n        prixcond puobj annee  code_departement  \n183            0     0  2006                14  \n199            0     0  2006                14  \n393            0     0  2006                14  \n397          132     0  2006                14  \n438           34     0  2006                14  \n...          ...   ...   ...               ...  \n135160         0     0  2021                14  \n135169        43     0  2021                14  \n135170        43     0  2021                14  \n135185        43     0  2021                14  \n135186        43     0  2021                14  \n\n[1537 rows x 27 columns]",
      "text/html": "<div>\n<style scoped>\n    .dataframe tbody tr th:only-of-type {\n        vertical-align: middle;\n    }\n\n    .dataframe tbody tr th {\n        vertical-align: top;\n    }\n\n    .dataframe thead th {\n        text-align: right;\n    }\n</style>\n<table border=\"1\" class=\"dataframe\">\n  <thead>\n    <tr style=\"text-align: right;\">\n      <th></th>\n      <th>codcli</th>\n      <th>genrecli</th>\n      <th>nomcli</th>\n      <th>prenomcli</th>\n      <th>cpcli</th>\n      <th>villecli</th>\n      <th>codcde</th>\n      <th>datcde</th>\n      <th>timbrecli</th>\n      <th>timbrecde</th>\n      <th>...</th>\n      <th>libobj</th>\n      <th>Tailleobj</th>\n      <th>Poidsobj</th>\n      <th>points</th>\n      <th>indispobj</th>\n      <th>libcondit</th>\n      <th>prixcond</th>\n      <th>puobj</th>\n      <th>annee</th>\n      <th>code_departement</th>\n    </tr>\n  </thead>\n  <tbody>\n    <tr>\n      <th>183</th>\n      <td>13398</td>\n      <td>Mme</td>\n      <td>CRUET</td>\n      <td>Lydie</td>\n      <td>14000</td>\n      <td>CAEN</td>\n      <td>15038</td>\n      <td>2006-02-01</td>\n      <td>4.24</td>\n      <td>4.05</td>\n      <td>...</td>\n      <td>Drap de bain</td>\n      <td>NaN</td>\n      <td>400</td>\n      <td>80.0</td>\n      <td>0</td>\n      <td>Enveloppe Drap de Bain</td>\n      <td>0</td>\n      <td>0</td>\n      <td>2006</td>\n      <td>14</td>\n    </tr>\n    <tr>\n      <th>199</th>\n      <td>13407</td>\n      <td>Mme</td>\n      <td>GRARD</td>\n      <td>Therese</td>\n      <td>14000</td>\n      <td>CAEN</td>\n      <td>15052</td>\n      <td>2006-01-31</td>\n      <td>3.71</td>\n      <td>5.10</td>\n      <td>...</td>\n      <td>Tete de menagere</td>\n      <td>Confidence</td>\n      <td>250</td>\n      <td>100.0</td>\n      <td>0</td>\n      <td>Enveloppe Tete de menagere</td>\n      <td>0</td>\n      <td>0</td>\n      <td>2006</td>\n      <td>14</td>\n    </tr>\n    <tr>\n      <th>393</th>\n      <td>13514</td>\n      <td>Mme</td>\n      <td>KUBANIK</td>\n      <td>Chantal</td>\n      <td>14000</td>\n      <td>CAEN</td>\n      <td>15191</td>\n      <td>2006-02-10</td>\n      <td>0.00</td>\n      <td>5.10</td>\n      <td>...</td>\n      <td>Ballon</td>\n      <td>NaN</td>\n      <td>440</td>\n      <td>100.0</td>\n      <td>0</td>\n      <td>Carton Ballon</td>\n      <td>0</td>\n      <td>0</td>\n      <td>2006</td>\n      <td>14</td>\n    </tr>\n    <tr>\n      <th>397</th>\n      <td>13517</td>\n      <td>Mme</td>\n      <td>GUELLE</td>\n      <td>Paulette</td>\n      <td>14000</td>\n      <td>CAEN</td>\n      <td>15194</td>\n      <td>2006-02-07</td>\n      <td>0.78</td>\n      <td>0.64</td>\n      <td>...</td>\n      <td>Montre</td>\n      <td>Femme</td>\n      <td>20</td>\n      <td>150.0</td>\n      <td>0</td>\n      <td>Distingo 50 g</td>\n      <td>132</td>\n      <td>0</td>\n      <td>2006</td>\n      <td>14</td>\n    </tr>\n    <tr>\n      <th>438</th>\n      <td>968</td>\n      <td>Mme</td>\n      <td>LEMARCHAND</td>\n      <td>Claire</td>\n      <td>14000</td>\n      <td>CAEN</td>\n      <td>15227</td>\n      <td>2006-02-08</td>\n      <td>1.49</td>\n      <td>1.45</td>\n      <td>...</td>\n      <td>T-shirt Blanc</td>\n      <td>9-11 ans</td>\n      <td>105</td>\n      <td>60.0</td>\n      <td>0</td>\n      <td>Distingo 500 g</td>\n      <td>34</td>\n      <td>0</td>\n      <td>2006</td>\n      <td>14</td>\n    </tr>\n    <tr>\n      <th>...</th>\n      <td>...</td>\n      <td>...</td>\n      <td>...</td>\n      <td>...</td>\n      <td>...</td>\n      <td>...</td>\n      <td>...</td>\n      <td>...</td>\n      <td>...</td>\n      <td>...</td>\n      <td>...</td>\n      <td>...</td>\n      <td>...</td>\n      <td>...</td>\n      <td>...</td>\n      <td>...</td>\n      <td>...</td>\n      <td>...</td>\n      <td>...</td>\n      <td>...</td>\n      <td>...</td>\n    </tr>\n    <tr>\n      <th>135160</th>\n      <td>31938</td>\n      <td>Melle</td>\n      <td>HEINZE</td>\n      <td>Peggy</td>\n      <td>14000</td>\n      <td>CAEN</td>\n      <td>89981</td>\n      <td>2021-07-15</td>\n      <td>0.00</td>\n      <td>7.95</td>\n      <td>...</td>\n      <td>Sommelier</td>\n      <td>NaN</td>\n      <td>115</td>\n      <td>40.0</td>\n      <td>0</td>\n      <td>Carton 10 kg</td>\n      <td>0</td>\n      <td>0</td>\n      <td>2021</td>\n      <td>14</td>\n    </tr>\n    <tr>\n      <th>135169</th>\n      <td>13398</td>\n      <td>Mme</td>\n      <td>CRUET</td>\n      <td>Lydie</td>\n      <td>14000</td>\n      <td>CAEN</td>\n      <td>89986</td>\n      <td>2021-07-15</td>\n      <td>0.00</td>\n      <td>6.55</td>\n      <td>...</td>\n      <td>Tablier</td>\n      <td>Rouge</td>\n      <td>256</td>\n      <td>60.0</td>\n      <td>0</td>\n      <td>Lettre Suivie 500 g</td>\n      <td>43</td>\n      <td>0</td>\n      <td>2021</td>\n      <td>14</td>\n    </tr>\n    <tr>\n      <th>135170</th>\n      <td>13398</td>\n      <td>Mme</td>\n      <td>CRUET</td>\n      <td>Lydie</td>\n      <td>14000</td>\n      <td>CAEN</td>\n      <td>89986</td>\n      <td>2021-07-15</td>\n      <td>0.00</td>\n      <td>6.55</td>\n      <td>...</td>\n      <td>T-shirt Miss Bleu</td>\n      <td>XXL</td>\n      <td>155</td>\n      <td>60.0</td>\n      <td>0</td>\n      <td>Lettre Suivie 500 g</td>\n      <td>43</td>\n      <td>0</td>\n      <td>2021</td>\n      <td>14</td>\n    </tr>\n    <tr>\n      <th>135185</th>\n      <td>17089</td>\n      <td>M.</td>\n      <td>FROIDEVAUX</td>\n      <td>Jean-Guy</td>\n      <td>14000</td>\n      <td>CAEN</td>\n      <td>89995</td>\n      <td>2021-07-16</td>\n      <td>0.00</td>\n      <td>6.55</td>\n      <td>...</td>\n      <td>Serviette + gant</td>\n      <td>NaN</td>\n      <td>260</td>\n      <td>80.0</td>\n      <td>0</td>\n      <td>Lettre Suivie 500 g</td>\n      <td>43</td>\n      <td>0</td>\n      <td>2021</td>\n      <td>14</td>\n    </tr>\n    <tr>\n      <th>135186</th>\n      <td>17089</td>\n      <td>M.</td>\n      <td>FROIDEVAUX</td>\n      <td>Jean-Guy</td>\n      <td>14000</td>\n      <td>CAEN</td>\n      <td>89995</td>\n      <td>2021-07-16</td>\n      <td>0.00</td>\n      <td>6.55</td>\n      <td>...</td>\n      <td>Points Bonus Fidelite</td>\n      <td>NaN</td>\n      <td>0</td>\n      <td>-500.0</td>\n      <td>0</td>\n      <td>Lettre Suivie 500 g</td>\n      <td>43</td>\n      <td>0</td>\n      <td>2021</td>\n      <td>14</td>\n    </tr>\n  </tbody>\n</table>\n<p>1537 rows × 27 columns</p>\n</div>"
     },
     "execution_count": 10,
     "metadata": {},
     "output_type": "execute_result"
    }
   ],
   "source": [
    "df_clean_date[df_clean_date[\"villecli\"]==\"CAEN\"]"
   ],
   "metadata": {
    "collapsed": false,
    "pycharm": {
     "name": "#%%\n"
    }
   }
  },
  {
   "cell_type": "code",
   "execution_count": 32,
   "outputs": [
    {
     "data": {
      "text/plain": "                       codcde  Nbcolis  ville_ColisParCmd\nvillecli                                                 \nABBEVILLE                  20     20.0           1.000000\nABILLY                      4      4.0           1.000000\nABLAIN ST NAZAIRE           1      1.0           1.000000\nABLIS                       1      1.0           1.000000\nABLON                      68     68.0           1.000000\n...                       ...      ...                ...\nYVRANDES                   10     10.0           1.000000\nYVRE L'EVEQUE              65     65.0           1.000000\nYVRE LE POLIN              26     34.0           1.307692\nYZEURES SUR CREUSE          8      8.0           1.000000\nbEAUMONT PIED DE BŒUF       2      2.0           1.000000\n\n[6259 rows x 3 columns]",
      "text/html": "<div>\n<style scoped>\n    .dataframe tbody tr th:only-of-type {\n        vertical-align: middle;\n    }\n\n    .dataframe tbody tr th {\n        vertical-align: top;\n    }\n\n    .dataframe thead th {\n        text-align: right;\n    }\n</style>\n<table border=\"1\" class=\"dataframe\">\n  <thead>\n    <tr style=\"text-align: right;\">\n      <th></th>\n      <th>codcde</th>\n      <th>Nbcolis</th>\n      <th>ville_ColisParCmd</th>\n    </tr>\n    <tr>\n      <th>villecli</th>\n      <th></th>\n      <th></th>\n      <th></th>\n    </tr>\n  </thead>\n  <tbody>\n    <tr>\n      <th>ABBEVILLE</th>\n      <td>20</td>\n      <td>20.0</td>\n      <td>1.000000</td>\n    </tr>\n    <tr>\n      <th>ABILLY</th>\n      <td>4</td>\n      <td>4.0</td>\n      <td>1.000000</td>\n    </tr>\n    <tr>\n      <th>ABLAIN ST NAZAIRE</th>\n      <td>1</td>\n      <td>1.0</td>\n      <td>1.000000</td>\n    </tr>\n    <tr>\n      <th>ABLIS</th>\n      <td>1</td>\n      <td>1.0</td>\n      <td>1.000000</td>\n    </tr>\n    <tr>\n      <th>ABLON</th>\n      <td>68</td>\n      <td>68.0</td>\n      <td>1.000000</td>\n    </tr>\n    <tr>\n      <th>...</th>\n      <td>...</td>\n      <td>...</td>\n      <td>...</td>\n    </tr>\n    <tr>\n      <th>YVRANDES</th>\n      <td>10</td>\n      <td>10.0</td>\n      <td>1.000000</td>\n    </tr>\n    <tr>\n      <th>YVRE L'EVEQUE</th>\n      <td>65</td>\n      <td>65.0</td>\n      <td>1.000000</td>\n    </tr>\n    <tr>\n      <th>YVRE LE POLIN</th>\n      <td>26</td>\n      <td>34.0</td>\n      <td>1.307692</td>\n    </tr>\n    <tr>\n      <th>YZEURES SUR CREUSE</th>\n      <td>8</td>\n      <td>8.0</td>\n      <td>1.000000</td>\n    </tr>\n    <tr>\n      <th>bEAUMONT PIED DE BŒUF</th>\n      <td>2</td>\n      <td>2.0</td>\n      <td>1.000000</td>\n    </tr>\n  </tbody>\n</table>\n<p>6259 rows × 3 columns</p>\n</div>"
     },
     "execution_count": 32,
     "metadata": {},
     "output_type": "execute_result"
    }
   ],
   "source": [
    "result_agg = df.groupby('villecli').agg({'codcde': 'count', 'Nbcolis': 'sum'})\n",
    "result_agg[\"ville_ColisParCmd\"] = result_agg[\"Nbcolis\"] / result_agg[\"codcde\"]\n",
    "result_agg"
   ],
   "metadata": {
    "collapsed": false,
    "pycharm": {
     "name": "#%%\n"
    }
   }
  },
  {
   "cell_type": "markdown",
   "source": [
    "# Question 1"
   ],
   "metadata": {
    "collapsed": false,
    "pycharm": {
     "name": "#%% md\n"
    }
   }
  },
  {
   "cell_type": "code",
   "execution_count": 12,
   "outputs": [
    {
     "data": {
      "text/plain": "       codcli  genrecli     nomcli prenomcli  cpcli               villecli  \\\n35758   16114  M. & Mme     LOTTIN    Claude  53810                 CHANGE   \n36374   29169       Mme    PILORGE   Suzanne  53190                LANDIVY   \n37261   23510  M. & Mme  PANNETIER    Marcel  53410           PORT BRILLET   \n39059    3826       Mme   LEBRETON   Suzanne  53500                  ERNEE   \n40393    6410       Mme   GAUTRAIS  Nathalie  53410  LE BOURGNEUF LA FORET   \n\n       codcde     datcde  timbrecli  timbrecde  ...            libobj  \\\n35758   43487 2010-01-07       0.00        4.5  ...     Jeu de cartes   \n36374   43914 2010-02-01       2.55        3.5  ...           Cle USB   \n37261   44473 2010-03-03       0.00        4.6  ...     Jeu de cartes   \n39059   45270 2010-05-12       0.00        6.5  ...  Tete de menagere   \n40393   45836 2010-07-02       0.00        4.6  ...           Cle USB   \n\n        Tailleobj  Poidsobj  points  indispobj                   libcondit  \\\n35758         NaN        60    20.0          0              Distingo 500 g   \n36374         NaN        25    40.0          0          Mini Max 101/250 g   \n37261         NaN        60    20.0          0              Distingo 500 g   \n39059  Confidence       250   100.0          0                 Carton 5 kg   \n40393         NaN        25    40.0          0  Enveloppe Tete de menagere   \n\n       prixcond puobj annee  code_departement  \n35758        34     0  2010                53  \n36374        25     0  2010                53  \n37261        34     0  2010                53  \n39059         0     0  2010                53  \n40393         0     0  2010                53  \n\n[5 rows x 27 columns]",
      "text/html": "<div>\n<style scoped>\n    .dataframe tbody tr th:only-of-type {\n        vertical-align: middle;\n    }\n\n    .dataframe tbody tr th {\n        vertical-align: top;\n    }\n\n    .dataframe thead th {\n        text-align: right;\n    }\n</style>\n<table border=\"1\" class=\"dataframe\">\n  <thead>\n    <tr style=\"text-align: right;\">\n      <th></th>\n      <th>codcli</th>\n      <th>genrecli</th>\n      <th>nomcli</th>\n      <th>prenomcli</th>\n      <th>cpcli</th>\n      <th>villecli</th>\n      <th>codcde</th>\n      <th>datcde</th>\n      <th>timbrecli</th>\n      <th>timbrecde</th>\n      <th>...</th>\n      <th>libobj</th>\n      <th>Tailleobj</th>\n      <th>Poidsobj</th>\n      <th>points</th>\n      <th>indispobj</th>\n      <th>libcondit</th>\n      <th>prixcond</th>\n      <th>puobj</th>\n      <th>annee</th>\n      <th>code_departement</th>\n    </tr>\n  </thead>\n  <tbody>\n    <tr>\n      <th>35758</th>\n      <td>16114</td>\n      <td>M. &amp; Mme</td>\n      <td>LOTTIN</td>\n      <td>Claude</td>\n      <td>53810</td>\n      <td>CHANGE</td>\n      <td>43487</td>\n      <td>2010-01-07</td>\n      <td>0.00</td>\n      <td>4.5</td>\n      <td>...</td>\n      <td>Jeu de cartes</td>\n      <td>NaN</td>\n      <td>60</td>\n      <td>20.0</td>\n      <td>0</td>\n      <td>Distingo 500 g</td>\n      <td>34</td>\n      <td>0</td>\n      <td>2010</td>\n      <td>53</td>\n    </tr>\n    <tr>\n      <th>36374</th>\n      <td>29169</td>\n      <td>Mme</td>\n      <td>PILORGE</td>\n      <td>Suzanne</td>\n      <td>53190</td>\n      <td>LANDIVY</td>\n      <td>43914</td>\n      <td>2010-02-01</td>\n      <td>2.55</td>\n      <td>3.5</td>\n      <td>...</td>\n      <td>Cle USB</td>\n      <td>NaN</td>\n      <td>25</td>\n      <td>40.0</td>\n      <td>0</td>\n      <td>Mini Max 101/250 g</td>\n      <td>25</td>\n      <td>0</td>\n      <td>2010</td>\n      <td>53</td>\n    </tr>\n    <tr>\n      <th>37261</th>\n      <td>23510</td>\n      <td>M. &amp; Mme</td>\n      <td>PANNETIER</td>\n      <td>Marcel</td>\n      <td>53410</td>\n      <td>PORT BRILLET</td>\n      <td>44473</td>\n      <td>2010-03-03</td>\n      <td>0.00</td>\n      <td>4.6</td>\n      <td>...</td>\n      <td>Jeu de cartes</td>\n      <td>NaN</td>\n      <td>60</td>\n      <td>20.0</td>\n      <td>0</td>\n      <td>Distingo 500 g</td>\n      <td>34</td>\n      <td>0</td>\n      <td>2010</td>\n      <td>53</td>\n    </tr>\n    <tr>\n      <th>39059</th>\n      <td>3826</td>\n      <td>Mme</td>\n      <td>LEBRETON</td>\n      <td>Suzanne</td>\n      <td>53500</td>\n      <td>ERNEE</td>\n      <td>45270</td>\n      <td>2010-05-12</td>\n      <td>0.00</td>\n      <td>6.5</td>\n      <td>...</td>\n      <td>Tete de menagere</td>\n      <td>Confidence</td>\n      <td>250</td>\n      <td>100.0</td>\n      <td>0</td>\n      <td>Carton 5 kg</td>\n      <td>0</td>\n      <td>0</td>\n      <td>2010</td>\n      <td>53</td>\n    </tr>\n    <tr>\n      <th>40393</th>\n      <td>6410</td>\n      <td>Mme</td>\n      <td>GAUTRAIS</td>\n      <td>Nathalie</td>\n      <td>53410</td>\n      <td>LE BOURGNEUF LA FORET</td>\n      <td>45836</td>\n      <td>2010-07-02</td>\n      <td>0.00</td>\n      <td>4.6</td>\n      <td>...</td>\n      <td>Cle USB</td>\n      <td>NaN</td>\n      <td>25</td>\n      <td>40.0</td>\n      <td>0</td>\n      <td>Enveloppe Tete de menagere</td>\n      <td>0</td>\n      <td>0</td>\n      <td>2010</td>\n      <td>53</td>\n    </tr>\n  </tbody>\n</table>\n<p>5 rows × 27 columns</p>\n</div>"
     },
     "execution_count": 12,
     "metadata": {},
     "output_type": "execute_result"
    }
   ],
   "source": [
    "# après annee 2010\n",
    "df_2010 = df_clean_date[df_clean_date['annee'] >= 2010]\n",
    "\n",
    "# Filtrer le département 53 (Mayenne)\n",
    "df_2010_mayenne = df_2010[df_2010['code_departement'] == 53]\n",
    "df_2010_mayenne.head(5)\n",
    "\n",
    "# Filtre quantité supérieure à 5\n",
    "df_2010_mayenne_qte = df_2010_mayenne[df_2010_mayenne['qte'] > 5]\n",
    "df_2010_mayenne_qte.head(5)"
   ],
   "metadata": {
    "collapsed": false,
    "pycharm": {
     "name": "#%%\n"
    }
   }
  },
  {
   "cell_type": "code",
   "execution_count": 13,
   "outputs": [
    {
     "data": {
      "text/plain": "array(['ERNEE', 'LASSAY LES CHATEAUX', 'ASSE LE BERENGER',\n       'SAINT CHRISTOPHE DU LUAT', 'LIGNIERES ORGERES', 'LAVAL',\n       'LARCHAMP', 'SAINT ELLIER DU MAINE', 'ENTRAMMES', 'LANDIVY',\n       'CHANGE', 'EVRON', 'ST GERMAIN LE GUILLAUME', 'COSSE LE VIVIEN',\n       'LA DOREE', 'MAYENNE', 'LE GENEST SAINT ISLE', 'OLIVET',\n       'CHATEAU GONTIER', 'AMBRIERES LES VALLEES', 'LOUVERNE',\n       'MONTREUIL POULAY', 'QUELAINES SAINT GAULT', 'MONTOURTIER',\n       'GESVRES', 'ARGENTRE', 'SAINT BERTHEVIN',\n       'CHATEAU GONTIER SUR MAYENNE', 'FOUGEROLLES DU PLESSIS',\n       'COURBEVEILLE', 'MENIL', 'SAINT PIERRE LA COUR', 'PONTMAIN',\n       'MESLAY DU MAINE', 'SAINT HILAIRE DU MAINE', 'ST MARTIN DE CONNEE',\n       'JUVIGNE', 'MONTENAY', 'PORT BRILLET',\n       'SAINT GERMAIN LE FOUILLOUX', 'MADRE', 'ARON',\n       'SAINT AIGNAN SUR ROE', 'ASTILLE', 'GORRON', 'COURCITE',\n       'LAUBRIERES', 'SAINT MARS DU DESERT', 'COLOMBIERS DU PLESSIS',\n       'CHANTRIGNE', 'CHAMPGENETEUX', 'VOUTRE', 'AVERTON', \"L'HUISSERIE\",\n       'BAZOUGERS', 'SAINT PIERRE DES LANDES', 'LA BACONNIERE',\n       'COSSE EN CHAMPAGNE', 'DESERTINES', 'RUILLE LE GRAVELAIS',\n       'ST AUBIN FOSSE LOUVAIN', 'LA CHAPELLE AU RIBOUL',\n       'CRENNES SUR FRAUBEE', 'VILLIERS CHARLEMAGNE', 'LOIRON', 'BALLOTS',\n       'SAINT GEORGES BUTTAVENT', 'MONTIGNE LE BRILLANT', 'BAIS',\n       'SAINT BERTHEVIN LA TANNIERE', 'SAINT MARS SUR COLMONT',\n       'GREZ EN BOUERE', 'BREE', 'LE BOURGNEUF LA FORET',\n       'TORCE VIVIERS EN CHARNIE', 'BONCHAMP LES LAVAL', 'HAMBERS',\n       'CRAON', 'NUILLE SUR VICOIN', 'ST DENIS DE GASTINES',\n       'JAVRON LES CHAPELLES', 'SAINT OUEN DES TOITS',\n       'ST HILAIRE DU MAINE', 'CONTEST', 'RENAZE', 'PRE EN PAIL',\n       'LE RIBAY', 'MEZANGERS', 'PRE EN PAIL ST SAMSON', 'LE PAS',\n       'SAINT CENERE', 'ST PIERRE DES NIDS', 'VAIGES', 'LA PELLERINE',\n       'LA HAIE TRAVERSAINE', 'SAINTE GEMMES LE ROBERT',\n       'ST PIERRE DES LANDES', 'SAINT GEORGES SUR ERVE', 'BOULAY LES IFS',\n       'LE HORPS', 'CHATILLON SUR COLMONT', 'MARCILLE LA VILLE',\n       'GENNES SUR GLAIZE', 'SAINT MARS SUR LA FUTAIE',\n       'ARGENTON NOTRE DAME', 'OISSEAU', 'NEUILLY LE VENDIN',\n       'NUILLE SUR OUETTE', 'LA CHAPELLE CRAONNAISE', 'LOIRON RUILLE',\n       'SAINT AUBIN DU DESERT', 'VILLAINES LA JUHEL', 'CHAILLAND',\n       'LA BRÛLATTE', 'LOUVIGNE', 'ANDOUILLE', 'LA BAZOUGE DE CHEMERE',\n       'ST GERMAIN DE COULAMER', 'SAINT AIGNAN DE COUPTRAIN',\n       'SAINT AUBIN FOSSE LOUVAIN', 'PLACE', 'ST BERTHEVIN',\n       'SAINT JEAN SUR MAYENNE', 'AZE', 'SAINT PIERRE DES NIDS',\n       'SAINT BAUDELLE', 'MONTAUDIN', 'GRAZAY', 'CHAMPEON', 'SOUCE',\n       'BOUERE', \"SAINT DENIS D'ANJOU\", 'BRECE', 'SAINT SAMSON',\n       'SAINT DENIS DE GASTINES', 'BIERNE', 'SAINT CYR EN PAIL',\n       'SAINT CYR LE GRAVELAIS', 'LE HAM', 'LAVAL CEDEX 9', 'LA GRAVELLE',\n       'SAINT BRICE', 'MARTIGNE SUR MAYENNE', 'VIMARCE',\n       'SAINT PIERRE SUR ORTHE', 'LA CROIXILLE', 'SAINT FORT', 'MERAL',\n       'CHAMPFREMONT', 'PARIGNE SUR BRAYE', 'SAINT GEORGES LE FLECHARD',\n       'BOUESSAY', 'LAIGNE', 'MONTSÛRS', 'ST MARS SUR LA FUTAIE',\n       'SAINT CALAIS DU DESERT', 'FONTAINE DANIEL',\n       'LE HOUSSEAU BRETIGNOLLES', 'SAINT MICHEL DE LA ROE', 'CHAMMES',\n       'SAINT JEAN SUR ERVE', 'CONGRIER', 'SAINT LOUP DU GAST', 'IZE',\n       'ST PIERRE SUR ORTHE', 'MONTJEAN', 'VAUTORTE',\n       'SAINT THOMAS DE COURCERIERS', 'LE GENEST ST ISLE',\n       'BRAINS SUR LES MARCHES', 'ST CYR EN PAIL', 'THUBOEUF',\n       'SAINTE MARIE DU BOIS', 'LA CROPTE', 'SAINT OUEN DES VALLONS',\n       'ST CYR LE GRAVELAIS', 'LESBOIS', 'STE  SUZANNE ET CHAMMES',\n       'LEVARE', 'SAINT JULIEN DU TERROUX', 'POMMERIEUX', 'AHUILLE',\n       'LOUPFOUGERES', 'BEAULIEU SUR OUDON', 'LA CHAPELLE ANTHENAISE',\n       'ST PIERRE LA COUR', 'DENAZE', 'JUBLAINS', 'COUDRAY', 'ALEXAIN',\n       'bEAUMONT PIED DE BŒUF', 'ST AUBIN DU DESERT', 'BALLEE',\n       'MONTSURS ST CENERE', 'CHEMAZE', 'NEAU', 'ST MARS SUR COLMONT',\n       'ST THOMAS DE COURCERIERS', 'COUESMES VAUCE', 'VIEUVY',\n       'LOIGNE SUR MAYENNE', 'SOULGE SUR OUETTE',\n       'SAINT MARTIN DE CONNEE', 'LA BIGOTTIERE', 'LIVET',\n       'FONTAINE COUVERTE', 'SAINT CHARLES LA FORET',\n       'ST BERTHEVIN LA TANNIERE', 'LE BIGNON DU MAINE', 'SAULGES',\n       'HOUSSAY', 'CHEVAIGNE DU MAINE', 'LIVRE LA TOUCHE', 'MOULAY',\n       'THORIGNE EN CHARNIE', 'COUPTRAIN', 'SACE', 'ATHEE', 'CARELLES',\n       'GESNES', 'LES CHAPELLES', 'LA SELLE CRAONNAISE',\n       'ST FRAIMBAULT DE PRIERES', 'VILLEPAIL', 'BOUCHAMPS LES CRAON',\n       'ST JULIEN DU TERROUX', 'FORCE', 'RENNES EN GRENOUILLES',\n       'ST CHARLES LA FORET', 'LONGUEFUYE', 'CUILLE', 'VAL DU MAINE',\n       'ST LOUP DU DORAT', 'CHARCHIGNE', 'QUELAINES ST GAULT', 'COSMES',\n       'DEUX EVAILLES', 'HERCE', 'LA ROUAUDIERE', 'PARNE SUR ROC',\n       'SAINT FRAIMBAULT DE PRIERES', 'HARDANGES',\n       'MAISONCELLES DU MAINE', 'BEAUMONT PIED DE BOEUF',\n       'SAINT SATURNIN DU LIMET', 'SAINT MARTIN DU LIMET', 'FROMENTIERES',\n       'ST MARS DU DESERT', 'COMMER', 'BOURGON', 'ST POIX',\n       'ST GERMAIN LE FOUILLOUX', 'ST GEORGES SUR ERVE',\n       'SAINT GERMAIN DE COULAMER', 'CHEMERE LE ROI', 'CHATRES LA FORET',\n       'STE GEMMES LE ROBERT', 'MELLERAY LA VALLEE', 'PEUTON',\n       'ST AIGNAN SUR ROE', 'LE BURET', 'LA ROE', 'ST DENIS DU MAINE',\n       \"ST GERMAIN D'ANXURE\", 'LA CHAPELLE RAINSOUIN', 'GASTINES',\n       'AMPOIGNE', 'BELGEARD', \"ST DENIS D'ANJOU\", 'ST OUEN DES TOITS',\n       'NIAFLES', 'RAVIGNY', 'LA PALLU', 'TRANS', 'MAYENNE CEDEX',\n       'LA ROCHE NEUVILLE', 'ST JEAN SUR MAYENNE', 'LA BOISSIERE'],\n      dtype=object)"
     },
     "execution_count": 13,
     "metadata": {},
     "output_type": "execute_result"
    }
   ],
   "source": [
    "df_2010_mayenne[\"villecli\"].unique()"
   ],
   "metadata": {
    "collapsed": false,
    "pycharm": {
     "name": "#%%\n"
    }
   }
  },
  {
   "cell_type": "code",
   "execution_count": 14,
   "outputs": [
    {
     "data": {
      "text/plain": "annee  villecli                  libobj          \n2010   CHANGE                    Jeu de cartes       1\n       COURCITE                  Jeu de cartes       1\n       ERNEE                     Tete de menagere    2\n       LA CHAPELLE CRAONNAISE    Tete de menagere    1\n       LANDIVY                   Cle USB             1\n                                                    ..\n2021   ST CHARLES LA FORET       Tete de menagere    1\n       ST OUEN DES TOITS         Tete de menagere    1\n       TORCE VIVIERS EN CHARNIE  Serviette + gant    1\n       VILLEPAIL                 Tartineur           1\n                                 Torchon 2021        1\nName: nb_commandes, Length: 126, dtype: int64"
     },
     "execution_count": 14,
     "metadata": {},
     "output_type": "execute_result"
    }
   ],
   "source": [
    "result = df_2010_mayenne_qte.groupby(['annee', 'villecli', 'libobj'])['codcde'].count()\n",
    "result.name = 'nb_commandes'\n",
    "result"
   ],
   "metadata": {
    "collapsed": false,
    "pycharm": {
     "name": "#%%\n"
    }
   }
  },
  {
   "cell_type": "markdown",
   "source": [
    "# Question 2"
   ],
   "metadata": {
    "collapsed": false,
    "pycharm": {
     "name": "#%% md\n"
    }
   }
  },
  {
   "cell_type": "code",
   "execution_count": 15,
   "outputs": [
    {
     "data": {
      "text/plain": "       codcli  genrecli     nomcli            prenomcli  cpcli  \\\n63      12928  M. & Mme    BOUESSE  Gerard et Micheline  27260   \n64      17827  M. & Mme  FROMENTIN                 Yves  44590   \n18186   23670  M. & Mme    BOITEUX                Roger  53170   \n18187   23671        M.    MORALES              Patrick  14700   \n18188   23672        M.     FOREST               Julien  50000   \n\n                            villecli  codcde     datcde  timbrecli  timbrecde  \\\n63     SAINT SYLVESTRE DE CORMEILLES   41373 2009-09-07        0.0        4.5   \n64                          LUSANGER   41376 2009-09-07        0.0        6.4   \n18186          MAISONCELLES DU MAINE   30203 2008-01-02        0.0        1.4   \n18187                        ERAINES   30204 2008-01-02        0.0        1.4   \n18188                       SAINT LO   30205 2008-01-02        0.0        1.4   \n\n       ...        libobj  Tailleobj  Poidsobj  points  indispobj  \\\n63     ...  Drap de bain        NaN       400    80.0          0   \n64     ...  Drap de bain        NaN       400    80.0          0   \n18186  ...        Montre      Femme        20   150.0          0   \n18187  ...        Montre      Femme        20   150.0          0   \n18188  ...   Stylo plume   Reynolds        18    60.0          0   \n\n                    libcondit  prixcond puobj annee  code_departement  \n63     Enveloppe Drap de Bain         0     0  2009                27  \n64        Carton Drap de Bain         0     0  2009                44  \n18186           Distingo 50 g       132     0  2008                53  \n18187           Distingo 50 g       132     0  2008                14  \n18188           Distingo 50 g       132     0  2008                50  \n\n[5 rows x 27 columns]",
      "text/html": "<div>\n<style scoped>\n    .dataframe tbody tr th:only-of-type {\n        vertical-align: middle;\n    }\n\n    .dataframe tbody tr th {\n        vertical-align: top;\n    }\n\n    .dataframe thead th {\n        text-align: right;\n    }\n</style>\n<table border=\"1\" class=\"dataframe\">\n  <thead>\n    <tr style=\"text-align: right;\">\n      <th></th>\n      <th>codcli</th>\n      <th>genrecli</th>\n      <th>nomcli</th>\n      <th>prenomcli</th>\n      <th>cpcli</th>\n      <th>villecli</th>\n      <th>codcde</th>\n      <th>datcde</th>\n      <th>timbrecli</th>\n      <th>timbrecde</th>\n      <th>...</th>\n      <th>libobj</th>\n      <th>Tailleobj</th>\n      <th>Poidsobj</th>\n      <th>points</th>\n      <th>indispobj</th>\n      <th>libcondit</th>\n      <th>prixcond</th>\n      <th>puobj</th>\n      <th>annee</th>\n      <th>code_departement</th>\n    </tr>\n  </thead>\n  <tbody>\n    <tr>\n      <th>63</th>\n      <td>12928</td>\n      <td>M. &amp; Mme</td>\n      <td>BOUESSE</td>\n      <td>Gerard et Micheline</td>\n      <td>27260</td>\n      <td>SAINT SYLVESTRE DE CORMEILLES</td>\n      <td>41373</td>\n      <td>2009-09-07</td>\n      <td>0.0</td>\n      <td>4.5</td>\n      <td>...</td>\n      <td>Drap de bain</td>\n      <td>NaN</td>\n      <td>400</td>\n      <td>80.0</td>\n      <td>0</td>\n      <td>Enveloppe Drap de Bain</td>\n      <td>0</td>\n      <td>0</td>\n      <td>2009</td>\n      <td>27</td>\n    </tr>\n    <tr>\n      <th>64</th>\n      <td>17827</td>\n      <td>M. &amp; Mme</td>\n      <td>FROMENTIN</td>\n      <td>Yves</td>\n      <td>44590</td>\n      <td>LUSANGER</td>\n      <td>41376</td>\n      <td>2009-09-07</td>\n      <td>0.0</td>\n      <td>6.4</td>\n      <td>...</td>\n      <td>Drap de bain</td>\n      <td>NaN</td>\n      <td>400</td>\n      <td>80.0</td>\n      <td>0</td>\n      <td>Carton Drap de Bain</td>\n      <td>0</td>\n      <td>0</td>\n      <td>2009</td>\n      <td>44</td>\n    </tr>\n    <tr>\n      <th>18186</th>\n      <td>23670</td>\n      <td>M. &amp; Mme</td>\n      <td>BOITEUX</td>\n      <td>Roger</td>\n      <td>53170</td>\n      <td>MAISONCELLES DU MAINE</td>\n      <td>30203</td>\n      <td>2008-01-02</td>\n      <td>0.0</td>\n      <td>1.4</td>\n      <td>...</td>\n      <td>Montre</td>\n      <td>Femme</td>\n      <td>20</td>\n      <td>150.0</td>\n      <td>0</td>\n      <td>Distingo 50 g</td>\n      <td>132</td>\n      <td>0</td>\n      <td>2008</td>\n      <td>53</td>\n    </tr>\n    <tr>\n      <th>18187</th>\n      <td>23671</td>\n      <td>M.</td>\n      <td>MORALES</td>\n      <td>Patrick</td>\n      <td>14700</td>\n      <td>ERAINES</td>\n      <td>30204</td>\n      <td>2008-01-02</td>\n      <td>0.0</td>\n      <td>1.4</td>\n      <td>...</td>\n      <td>Montre</td>\n      <td>Femme</td>\n      <td>20</td>\n      <td>150.0</td>\n      <td>0</td>\n      <td>Distingo 50 g</td>\n      <td>132</td>\n      <td>0</td>\n      <td>2008</td>\n      <td>14</td>\n    </tr>\n    <tr>\n      <th>18188</th>\n      <td>23672</td>\n      <td>M.</td>\n      <td>FOREST</td>\n      <td>Julien</td>\n      <td>50000</td>\n      <td>SAINT LO</td>\n      <td>30205</td>\n      <td>2008-01-02</td>\n      <td>0.0</td>\n      <td>1.4</td>\n      <td>...</td>\n      <td>Stylo plume</td>\n      <td>Reynolds</td>\n      <td>18</td>\n      <td>60.0</td>\n      <td>0</td>\n      <td>Distingo 50 g</td>\n      <td>132</td>\n      <td>0</td>\n      <td>2008</td>\n      <td>50</td>\n    </tr>\n  </tbody>\n</table>\n<p>5 rows × 27 columns</p>\n</div>"
     },
     "execution_count": 15,
     "metadata": {},
     "output_type": "execute_result"
    }
   ],
   "source": [
    "# Informations sur les 10 clients les plus fidèles depuis 2008\n",
    "df_2008 = df_clean_date[df_clean_date['annee'] >= 2008]\n",
    "df_2008.head()"
   ],
   "metadata": {
    "collapsed": false,
    "pycharm": {
     "name": "#%%\n"
    }
   }
  },
  {
   "cell_type": "markdown",
   "source": [
    "# groupby"
   ],
   "metadata": {
    "collapsed": false,
    "pycharm": {
     "name": "#%% md\n"
    }
   }
  },
  {
   "cell_type": "code",
   "execution_count": 16,
   "outputs": [
    {
     "data": {
      "text/plain": "codcli\n786      124.0\n23550    123.0\n27059    121.0\n8993     100.0\n3190      99.0\n13516     95.0\n1903      88.0\n5165      85.0\n5576      84.0\n13440     82.0\nName: Nbcolis, dtype: float64"
     },
     "execution_count": 16,
     "metadata": {},
     "output_type": "execute_result"
    }
   ],
   "source": [
    "# Calculer le nombre total de colis pour chaque client\n",
    "total_colis_par_client = df_2008.groupby('codcli')['Nbcolis'].sum()\n",
    "top_10_clients = total_colis_par_client.nlargest(10)\n",
    "top_10_clients"
   ],
   "metadata": {
    "collapsed": false,
    "pycharm": {
     "name": "#%%\n"
    }
   }
  },
  {
   "cell_type": "markdown",
   "source": [
    "# Stats moyenne et ecarttype"
   ],
   "metadata": {
    "collapsed": false,
    "pycharm": {
     "name": "#%% md\n"
    }
   }
  },
  {
   "cell_type": "code",
   "execution_count": 17,
   "outputs": [
    {
     "data": {
      "text/plain": "                                  mean       std\nvillecli               cpcli                    \nARGENTAN               61200  1.000000  0.000000\nCHAMPAGNE              72470  1.322581  0.719157\nFOUGEROLLES DU PLESSIS 53190  1.016393  0.127507\nLE PIN AU HARAS        61310  1.000000  0.000000\nLES MONTS D ANDAINE    61600  1.000000  0.000000\nMALICORNE SUR SARTHE   72270  1.000000  0.000000\nSOLESMES               72300  1.000000  0.000000\nST BRICE               50300  1.000000  0.000000\nST GERMAIN DU CORBEIS  61000  1.024096  0.154281\nTINCHEBRAY BOCAGE      61800  1.000000  0.000000",
      "text/html": "<div>\n<style scoped>\n    .dataframe tbody tr th:only-of-type {\n        vertical-align: middle;\n    }\n\n    .dataframe tbody tr th {\n        vertical-align: top;\n    }\n\n    .dataframe thead th {\n        text-align: right;\n    }\n</style>\n<table border=\"1\" class=\"dataframe\">\n  <thead>\n    <tr style=\"text-align: right;\">\n      <th></th>\n      <th></th>\n      <th>mean</th>\n      <th>std</th>\n    </tr>\n    <tr>\n      <th>villecli</th>\n      <th>cpcli</th>\n      <th></th>\n      <th></th>\n    </tr>\n  </thead>\n  <tbody>\n    <tr>\n      <th>ARGENTAN</th>\n      <th>61200</th>\n      <td>1.000000</td>\n      <td>0.000000</td>\n    </tr>\n    <tr>\n      <th>CHAMPAGNE</th>\n      <th>72470</th>\n      <td>1.322581</td>\n      <td>0.719157</td>\n    </tr>\n    <tr>\n      <th>FOUGEROLLES DU PLESSIS</th>\n      <th>53190</th>\n      <td>1.016393</td>\n      <td>0.127507</td>\n    </tr>\n    <tr>\n      <th>LE PIN AU HARAS</th>\n      <th>61310</th>\n      <td>1.000000</td>\n      <td>0.000000</td>\n    </tr>\n    <tr>\n      <th>LES MONTS D ANDAINE</th>\n      <th>61600</th>\n      <td>1.000000</td>\n      <td>0.000000</td>\n    </tr>\n    <tr>\n      <th>MALICORNE SUR SARTHE</th>\n      <th>72270</th>\n      <td>1.000000</td>\n      <td>0.000000</td>\n    </tr>\n    <tr>\n      <th>SOLESMES</th>\n      <th>72300</th>\n      <td>1.000000</td>\n      <td>0.000000</td>\n    </tr>\n    <tr>\n      <th>ST BRICE</th>\n      <th>50300</th>\n      <td>1.000000</td>\n      <td>0.000000</td>\n    </tr>\n    <tr>\n      <th>ST GERMAIN DU CORBEIS</th>\n      <th>61000</th>\n      <td>1.024096</td>\n      <td>0.154281</td>\n    </tr>\n    <tr>\n      <th>TINCHEBRAY BOCAGE</th>\n      <th>61800</th>\n      <td>1.000000</td>\n      <td>0.000000</td>\n    </tr>\n  </tbody>\n</table>\n</div>"
     },
     "execution_count": 17,
     "metadata": {},
     "output_type": "execute_result"
    }
   ],
   "source": [
    "# Calculer la moyenne et l'écart type du nombre de colis par ville avec le département pour ces 10 clients\n",
    "moyenne_et_ecart_type = df_2008[df_2008['codcli'].isin(top_10_clients.index)].groupby(['villecli', 'cpcli'])['Nbcolis'].agg(['mean', 'std'])\n",
    "\n",
    "moyenne_et_ecart_type"
   ],
   "metadata": {
    "collapsed": false,
    "pycharm": {
     "name": "#%%\n"
    }
   }
  },
  {
   "cell_type": "code",
   "execution_count": 18,
   "outputs": [
    {
     "data": {
      "text/plain": "<Figure size 864x432 with 1 Axes>",
      "image/png": "[encoded data removed]"
     },
     "metadata": {
      "needs_background": "light"
     },
     "output_type": "display_data"
    }
   ],
   "source": [
    "# Créer un graphique en barres avec barres d'erreur pour l'écart type\n",
    "fig, ax = plt.subplots(figsize=(12, 6))\n",
    "moyenne_et_ecart_type['mean'].plot(kind='bar', ax=ax, yerr=moyenne_et_ecart_type['std'], capsize=5)\n",
    "plt.title('Moyenne et écart type du nombre de colis par ville avec le département')\n",
    "plt.xlabel('Ville avec le département')\n",
    "plt.ylabel('Nombre moyen de colis')\n",
    "plt.xticks(rotation=45, ha='right')\n",
    "\n",
    "# Enregistrer le graphique au format PDF\n",
    "plt.tight_layout()\n",
    "plt.savefig('moyenne_et_ecart_type_colis_par_ville.pdf')\n",
    "\n",
    "# Afficher le graphique (facultatif)\n",
    "plt.show()"
   ],
   "metadata": {
    "collapsed": false,
    "pycharm": {
     "name": "#%%\n"
    }
   }
  },
  {
   "cell_type": "markdown",
   "source": [
    "# code chatgpt"
   ],
   "metadata": {
    "collapsed": false,
    "pycharm": {
     "name": "#%% md\n"
    }
   }
  },
  {
   "cell_type": "code",
   "execution_count": 19,
   "outputs": [
    {
     "data": {
      "text/plain": "nomcli     prenomcli   codcli  villecli              \nMAUGET     Laurence    23550   MALICORNE SUR SARTHE      123\nCROTTE     Nicole      786     FOUGEROLLES DU PLESSIS    122\nLE PENVEN  Michele     27059   LES MONTS D ANDAINE       121\nBRIARD     Antoinette  8993    TINCHEBRAY BOCAGE         100\nTROTTET    Denise      3190    LE PIN AU HARAS            99\nDOULANS    Gabrielle   13516   ST BRICE                   95\nCOISEL     Jacky       1903    ARGENTAN                   88\nPICHON     Alain       5576    SOLESMES                   84\nDALLET     Nathalie    5165    ST GERMAIN DU CORBEIS      83\nHOREL      Christian   4812    CONDE SUR VIRE             80\nName: codcde, dtype: int64"
     },
     "execution_count": 19,
     "metadata": {},
     "output_type": "execute_result"
    }
   ],
   "source": [
    "df_count = df_2008.groupby(['nomcli', 'prenomcli', 'codcli', 'villecli'])['codcde'].count().sort_values(ascending=False)\n",
    "df_top = df_count.head(10)\n",
    "df_top"
   ],
   "metadata": {
    "collapsed": false,
    "pycharm": {
     "name": "#%%\n"
    }
   }
  },
  {
   "cell_type": "code",
   "execution_count": 20,
   "outputs": [
    {
     "data": {
      "text/plain": "codcli\n23550    123\n786      122\n27059    121\n8993     100\n3190      99\n13516     95\n1903      88\n5576      84\n5165      83\n1122      80\nName: codcde, dtype: int64"
     },
     "execution_count": 20,
     "metadata": {},
     "output_type": "execute_result"
    }
   ],
   "source": [
    "top_clients = df_count.groupby('codcli').sum().nlargest(10)\n",
    "top_clients"
   ],
   "metadata": {
    "collapsed": false,
    "pycharm": {
     "name": "#%%\n"
    }
   }
  },
  {
   "cell_type": "code",
   "execution_count": 21,
   "outputs": [
    {
     "data": {
      "text/plain": "                          count  mean  std\ncodcli villecli    cpcli                  \n80     MONDEVILLE  14120      1   1.0  NaN\n95     RONFEUGERAI 61100      4   1.0  0.0",
      "text/html": "<div>\n<style scoped>\n    .dataframe tbody tr th:only-of-type {\n        vertical-align: middle;\n    }\n\n    .dataframe tbody tr th {\n        vertical-align: top;\n    }\n\n    .dataframe thead th {\n        text-align: right;\n    }\n</style>\n<table border=\"1\" class=\"dataframe\">\n  <thead>\n    <tr style=\"text-align: right;\">\n      <th></th>\n      <th></th>\n      <th></th>\n      <th>count</th>\n      <th>mean</th>\n      <th>std</th>\n    </tr>\n    <tr>\n      <th>codcli</th>\n      <th>villecli</th>\n      <th>cpcli</th>\n      <th></th>\n      <th></th>\n      <th></th>\n    </tr>\n  </thead>\n  <tbody>\n    <tr>\n      <th>80</th>\n      <th>MONDEVILLE</th>\n      <th>14120</th>\n      <td>1</td>\n      <td>1.0</td>\n      <td>NaN</td>\n    </tr>\n    <tr>\n      <th>95</th>\n      <th>RONFEUGERAI</th>\n      <th>61100</th>\n      <td>4</td>\n      <td>1.0</td>\n      <td>0.0</td>\n    </tr>\n  </tbody>\n</table>\n</div>"
     },
     "execution_count": 21,
     "metadata": {},
     "output_type": "execute_result"
    }
   ],
   "source": [
    "filtered_df_2 = df_2008[df_2008['codcli'].isin(top_clients)]\n",
    "result_2 = filtered_df_2.groupby(['codcli', 'villecli', 'cpcli'])['Colis'].agg(['count', 'mean', 'std'])\n",
    "result_2"
   ],
   "metadata": {
    "collapsed": false,
    "pycharm": {
     "name": "#%%\n"
    }
   }
  },
  {
   "cell_type": "code",
   "execution_count": 22,
   "outputs": [
    {
     "ename": "KeyError",
     "evalue": "'annee'",
     "output_type": "error",
     "traceback": [
      "\u001B[1;31m---------------------------------------------------------------------------\u001B[0m",
      "\u001B[1;31mKeyError\u001B[0m                                  Traceback (most recent call last)",
      "Input \u001B[1;32mIn [22]\u001B[0m, in \u001B[0;36m<cell line: 3>\u001B[1;34m()\u001B[0m\n\u001B[0;32m      1\u001B[0m \u001B[38;5;66;03m# Courbe de croissance par objet pour les départements 53, 72 et 49\u001B[39;00m\n\u001B[0;32m      2\u001B[0m filtered_df_3 \u001B[38;5;241m=\u001B[39m df[df[\u001B[38;5;124m'\u001B[39m\u001B[38;5;124mcpcli\u001B[39m\u001B[38;5;124m'\u001B[39m]\u001B[38;5;241m.\u001B[39misin([\u001B[38;5;241m53000\u001B[39m, \u001B[38;5;241m72000\u001B[39m, \u001B[38;5;241m49000\u001B[39m])]\n\u001B[1;32m----> 3\u001B[0m result_3 \u001B[38;5;241m=\u001B[39m \u001B[43mfiltered_df_3\u001B[49m\u001B[38;5;241;43m.\u001B[39;49m\u001B[43mgroupby\u001B[49m\u001B[43m(\u001B[49m\u001B[43m[\u001B[49m\u001B[38;5;124;43m'\u001B[39;49m\u001B[38;5;124;43mannee\u001B[39;49m\u001B[38;5;124;43m'\u001B[39;49m\u001B[43m,\u001B[49m\u001B[43m \u001B[49m\u001B[38;5;124;43m'\u001B[39;49m\u001B[38;5;124;43mlibobj\u001B[39;49m\u001B[38;5;124;43m'\u001B[39;49m\u001B[43m,\u001B[49m\u001B[43m \u001B[49m\u001B[38;5;124;43m'\u001B[39;49m\u001B[38;5;124;43mcpcli\u001B[39;49m\u001B[38;5;124;43m'\u001B[39;49m\u001B[43m]\u001B[49m\u001B[43m)\u001B[49m[\u001B[38;5;124m'\u001B[39m\u001B[38;5;124mqte\u001B[39m\u001B[38;5;124m'\u001B[39m]\u001B[38;5;241m.\u001B[39msum()\n\u001B[0;32m      5\u001B[0m \u001B[38;5;66;03m# Convertir le résultat en une table pivot pour créer les graphiques\u001B[39;00m\n\u001B[0;32m      6\u001B[0m pivot_result_3 \u001B[38;5;241m=\u001B[39m result_3\u001B[38;5;241m.\u001B[39mreset_index()\u001B[38;5;241m.\u001B[39mpivot_table(index\u001B[38;5;241m=\u001B[39m[\u001B[38;5;124m'\u001B[39m\u001B[38;5;124mannee\u001B[39m\u001B[38;5;124m'\u001B[39m, \u001B[38;5;124m'\u001B[39m\u001B[38;5;124mlibobj\u001B[39m\u001B[38;5;124m'\u001B[39m], columns\u001B[38;5;241m=\u001B[39m\u001B[38;5;124m'\u001B[39m\u001B[38;5;124mcpcli\u001B[39m\u001B[38;5;124m'\u001B[39m, values\u001B[38;5;241m=\u001B[39m\u001B[38;5;124m'\u001B[39m\u001B[38;5;124mqte\u001B[39m\u001B[38;5;124m'\u001B[39m, fill_value\u001B[38;5;241m=\u001B[39m\u001B[38;5;241m0\u001B[39m)\n",
      "File \u001B[1;32m~\\anaconda3\\lib\\site-packages\\pandas\\core\\frame.py:7712\u001B[0m, in \u001B[0;36mDataFrame.groupby\u001B[1;34m(self, by, axis, level, as_index, sort, group_keys, squeeze, observed, dropna)\u001B[0m\n\u001B[0;32m   7707\u001B[0m axis \u001B[38;5;241m=\u001B[39m \u001B[38;5;28mself\u001B[39m\u001B[38;5;241m.\u001B[39m_get_axis_number(axis)\n\u001B[0;32m   7709\u001B[0m \u001B[38;5;66;03m# https://github.com/python/mypy/issues/7642\u001B[39;00m\n\u001B[0;32m   7710\u001B[0m \u001B[38;5;66;03m# error: Argument \"squeeze\" to \"DataFrameGroupBy\" has incompatible type\u001B[39;00m\n\u001B[0;32m   7711\u001B[0m \u001B[38;5;66;03m# \"Union[bool, NoDefault]\"; expected \"bool\"\u001B[39;00m\n\u001B[1;32m-> 7712\u001B[0m \u001B[38;5;28;01mreturn\u001B[39;00m \u001B[43mDataFrameGroupBy\u001B[49m\u001B[43m(\u001B[49m\n\u001B[0;32m   7713\u001B[0m \u001B[43m    \u001B[49m\u001B[43mobj\u001B[49m\u001B[38;5;241;43m=\u001B[39;49m\u001B[38;5;28;43mself\u001B[39;49m\u001B[43m,\u001B[49m\n\u001B[0;32m   7714\u001B[0m \u001B[43m    \u001B[49m\u001B[43mkeys\u001B[49m\u001B[38;5;241;43m=\u001B[39;49m\u001B[43mby\u001B[49m\u001B[43m,\u001B[49m\n\u001B[0;32m   7715\u001B[0m \u001B[43m    \u001B[49m\u001B[43maxis\u001B[49m\u001B[38;5;241;43m=\u001B[39;49m\u001B[43maxis\u001B[49m\u001B[43m,\u001B[49m\n\u001B[0;32m   7716\u001B[0m \u001B[43m    \u001B[49m\u001B[43mlevel\u001B[49m\u001B[38;5;241;43m=\u001B[39;49m\u001B[43mlevel\u001B[49m\u001B[43m,\u001B[49m\n\u001B[0;32m   7717\u001B[0m \u001B[43m    \u001B[49m\u001B[43mas_index\u001B[49m\u001B[38;5;241;43m=\u001B[39;49m\u001B[43mas_index\u001B[49m\u001B[43m,\u001B[49m\n\u001B[0;32m   7718\u001B[0m \u001B[43m    \u001B[49m\u001B[43msort\u001B[49m\u001B[38;5;241;43m=\u001B[39;49m\u001B[43msort\u001B[49m\u001B[43m,\u001B[49m\n\u001B[0;32m   7719\u001B[0m \u001B[43m    \u001B[49m\u001B[43mgroup_keys\u001B[49m\u001B[38;5;241;43m=\u001B[39;49m\u001B[43mgroup_keys\u001B[49m\u001B[43m,\u001B[49m\n\u001B[0;32m   7720\u001B[0m \u001B[43m    \u001B[49m\u001B[43msqueeze\u001B[49m\u001B[38;5;241;43m=\u001B[39;49m\u001B[43msqueeze\u001B[49m\u001B[43m,\u001B[49m\u001B[43m  \u001B[49m\u001B[38;5;66;43;03m# type: ignore[arg-type]\u001B[39;49;00m\n\u001B[0;32m   7721\u001B[0m \u001B[43m    \u001B[49m\u001B[43mobserved\u001B[49m\u001B[38;5;241;43m=\u001B[39;49m\u001B[43mobserved\u001B[49m\u001B[43m,\u001B[49m\n\u001B[0;32m   7722\u001B[0m \u001B[43m    \u001B[49m\u001B[43mdropna\u001B[49m\u001B[38;5;241;43m=\u001B[39;49m\u001B[43mdropna\u001B[49m\u001B[43m,\u001B[49m\n\u001B[0;32m   7723\u001B[0m \u001B[43m\u001B[49m\u001B[43m)\u001B[49m\n",
      "File \u001B[1;32m~\\anaconda3\\lib\\site-packages\\pandas\\core\\groupby\\groupby.py:882\u001B[0m, in \u001B[0;36mGroupBy.__init__\u001B[1;34m(self, obj, keys, axis, level, grouper, exclusions, selection, as_index, sort, group_keys, squeeze, observed, mutated, dropna)\u001B[0m\n\u001B[0;32m    879\u001B[0m \u001B[38;5;28;01mif\u001B[39;00m grouper \u001B[38;5;129;01mis\u001B[39;00m \u001B[38;5;28;01mNone\u001B[39;00m:\n\u001B[0;32m    880\u001B[0m     \u001B[38;5;28;01mfrom\u001B[39;00m \u001B[38;5;21;01mpandas\u001B[39;00m\u001B[38;5;21;01m.\u001B[39;00m\u001B[38;5;21;01mcore\u001B[39;00m\u001B[38;5;21;01m.\u001B[39;00m\u001B[38;5;21;01mgroupby\u001B[39;00m\u001B[38;5;21;01m.\u001B[39;00m\u001B[38;5;21;01mgrouper\u001B[39;00m \u001B[38;5;28;01mimport\u001B[39;00m get_grouper\n\u001B[1;32m--> 882\u001B[0m     grouper, exclusions, obj \u001B[38;5;241m=\u001B[39m \u001B[43mget_grouper\u001B[49m\u001B[43m(\u001B[49m\n\u001B[0;32m    883\u001B[0m \u001B[43m        \u001B[49m\u001B[43mobj\u001B[49m\u001B[43m,\u001B[49m\n\u001B[0;32m    884\u001B[0m \u001B[43m        \u001B[49m\u001B[43mkeys\u001B[49m\u001B[43m,\u001B[49m\n\u001B[0;32m    885\u001B[0m \u001B[43m        \u001B[49m\u001B[43maxis\u001B[49m\u001B[38;5;241;43m=\u001B[39;49m\u001B[43maxis\u001B[49m\u001B[43m,\u001B[49m\n\u001B[0;32m    886\u001B[0m \u001B[43m        \u001B[49m\u001B[43mlevel\u001B[49m\u001B[38;5;241;43m=\u001B[39;49m\u001B[43mlevel\u001B[49m\u001B[43m,\u001B[49m\n\u001B[0;32m    887\u001B[0m \u001B[43m        \u001B[49m\u001B[43msort\u001B[49m\u001B[38;5;241;43m=\u001B[39;49m\u001B[43msort\u001B[49m\u001B[43m,\u001B[49m\n\u001B[0;32m    888\u001B[0m \u001B[43m        \u001B[49m\u001B[43mobserved\u001B[49m\u001B[38;5;241;43m=\u001B[39;49m\u001B[43mobserved\u001B[49m\u001B[43m,\u001B[49m\n\u001B[0;32m    889\u001B[0m \u001B[43m        \u001B[49m\u001B[43mmutated\u001B[49m\u001B[38;5;241;43m=\u001B[39;49m\u001B[38;5;28;43mself\u001B[39;49m\u001B[38;5;241;43m.\u001B[39;49m\u001B[43mmutated\u001B[49m\u001B[43m,\u001B[49m\n\u001B[0;32m    890\u001B[0m \u001B[43m        \u001B[49m\u001B[43mdropna\u001B[49m\u001B[38;5;241;43m=\u001B[39;49m\u001B[38;5;28;43mself\u001B[39;49m\u001B[38;5;241;43m.\u001B[39;49m\u001B[43mdropna\u001B[49m\u001B[43m,\u001B[49m\n\u001B[0;32m    891\u001B[0m \u001B[43m    \u001B[49m\u001B[43m)\u001B[49m\n\u001B[0;32m    893\u001B[0m \u001B[38;5;28mself\u001B[39m\u001B[38;5;241m.\u001B[39mobj \u001B[38;5;241m=\u001B[39m obj\n\u001B[0;32m    894\u001B[0m \u001B[38;5;28mself\u001B[39m\u001B[38;5;241m.\u001B[39maxis \u001B[38;5;241m=\u001B[39m obj\u001B[38;5;241m.\u001B[39m_get_axis_number(axis)\n",
      "File \u001B[1;32m~\\anaconda3\\lib\\site-packages\\pandas\\core\\groupby\\grouper.py:882\u001B[0m, in \u001B[0;36mget_grouper\u001B[1;34m(obj, key, axis, level, sort, observed, mutated, validate, dropna)\u001B[0m\n\u001B[0;32m    880\u001B[0m         in_axis, level, gpr \u001B[38;5;241m=\u001B[39m \u001B[38;5;28;01mFalse\u001B[39;00m, gpr, \u001B[38;5;28;01mNone\u001B[39;00m\n\u001B[0;32m    881\u001B[0m     \u001B[38;5;28;01melse\u001B[39;00m:\n\u001B[1;32m--> 882\u001B[0m         \u001B[38;5;28;01mraise\u001B[39;00m \u001B[38;5;167;01mKeyError\u001B[39;00m(gpr)\n\u001B[0;32m    883\u001B[0m \u001B[38;5;28;01melif\u001B[39;00m \u001B[38;5;28misinstance\u001B[39m(gpr, Grouper) \u001B[38;5;129;01mand\u001B[39;00m gpr\u001B[38;5;241m.\u001B[39mkey \u001B[38;5;129;01mis\u001B[39;00m \u001B[38;5;129;01mnot\u001B[39;00m \u001B[38;5;28;01mNone\u001B[39;00m:\n\u001B[0;32m    884\u001B[0m     \u001B[38;5;66;03m# Add key to exclusions\u001B[39;00m\n\u001B[0;32m    885\u001B[0m     exclusions\u001B[38;5;241m.\u001B[39madd(gpr\u001B[38;5;241m.\u001B[39mkey)\n",
      "\u001B[1;31mKeyError\u001B[0m: 'annee'"
     ]
    }
   ],
   "source": [
    "\n",
    "\n",
    "# Courbe de croissance par objet pour les départements 53, 72 et 49\n",
    "filtered_df_3 = df[df['cpcli'].isin([53000, 72000, 49000])]\n",
    "result_3 = filtered_df_3.groupby(['annee', 'libobj', 'cpcli'])['qte'].sum()\n",
    "\n",
    "# Convertir le résultat en une table pivot pour créer les graphiques\n",
    "pivot_result_3 = result_3.reset_index().pivot_table(index=['annee', 'libobj'], columns='cpcli', values='qte', fill_value=0)\n",
    "\n",
    "# Parcourir les objets et créer les graphiques en PDF\n",
    "for libobj, data in pivot_result_3.groupby('libobj'):\n",
    "    ax = data.plot(title=libobj)\n",
    "    fig = ax.get_figure()\n",
    "\n",
    "# Afficher les résultats\n",
    "print(\"\\nRésultats 2:\")\n",
    "print(result_2)\n"
   ],
   "metadata": {
    "collapsed": false,
    "pycharm": {
     "name": "#%%\n"
    }
   }
  },
  {
   "cell_type": "code",
   "execution_count": null,
   "outputs": [],
   "source": [],
   "metadata": {
    "collapsed": false,
    "pycharm": {
     "name": "#%%\n"
    }
   }
  }
 ],
 "metadata": {
  "kernelspec": {
   "display_name": "Python 3",
   "language": "python",
   "name": "python3"
  },
  "language_info": {
   "codemirror_mode": {
    "name": "ipython",
    "version": 2
   },
   "file_extension": ".py",
   "mimetype": "text/x-python",
   "name": "python",
   "nbconvert_exporter": "python",
   "pygments_lexer": "ipython2",
   "version": "2.7.6"
  }
 },
 "nbformat": 4,
 "nbformat_minor": 0
}